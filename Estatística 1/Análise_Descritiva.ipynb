{
  "cells":[
    {
      "cell_type":"markdown",
      "source":[
        "***\n",
        "# <font color=green size=10>CURSO DE ESTATÍSTICA - PARTE 1<\/font>\n",
        "***\n",
        "\n",
        "## Trabalho de Análise Descritiva de um Conjunto de Dados\n",
        "\n",
        "Utilizando os conhecimentos adquiridos em nosso treinamento realize uma análise descritiva básica de um conjunto de dados retirados da Pesquisa Nacional por Amostra de Domicílios - 2015 do IBGE. \n",
        "\n",
        "Vamos construir histogramas, calcular e avaliar medidas de tendência central, medidas separatrizes e de dispersão dos dados.\n",
        "\n",
        "Siga o roteiro proposto e vá completando as células vazias. Procure pensar em mais informações interessantes que podem ser exploradas em nosso dataset."
      ],
      "metadata":{
        
      }
    },
    {
      "cell_type":"markdown",
      "source":[
        "# <font color=green>DATASET DO PROJETO<\/font>\n",
        "***"
      ],
      "metadata":{
        
      }
    },
    {
      "cell_type":"markdown",
      "source":[
        "### Pesquisa Nacional por Amostra de Domicílios - 2015\n",
        "\n",
        "A <b>Pesquisa Nacional por Amostra de Domicílios - PNAD<\/b> investiga anualmente, de forma permanente, características gerais da população, de educação, trabalho, rendimento e habitação e outras, com periodicidade variável, de acordo com as necessidades de informação para o país, como as características sobre migração, fecundidade, nupcialidade, saúde, segurança alimentar, entre outros temas. O levantamento dessas estatísticas constitui, ao longo dos 49 anos de realização da pesquisa, um importante instrumento para formulação, validação e avaliação de políticas orientadas para o desenvolvimento socioeconômico e a melhoria das condições de vida no Brasil."
      ],
      "metadata":{
        
      }
    },
    {
      "cell_type":"markdown",
      "source":[
        "### Fonte dos Dados\n",
        "\n",
        "https:\/\/ww2.ibge.gov.br\/home\/estatistica\/populacao\/trabalhoerendimento\/pnad2015\/microdados.shtm"
      ],
      "metadata":{
        
      }
    },
    {
      "cell_type":"markdown",
      "source":[
        "### Variáveis utilizadas\n",
        "\n",
        "> ### Renda\n",
        "> ***\n",
        "\n",
        "Rendimento mensal do trabalho principal para pessoas de 10 anos ou mais de idade.\n",
        "\n",
        "> ### Idade\n",
        "> ***\n",
        "\n",
        "Idade do morador na data de referência em anos.\n",
        "\n",
        "> ### Altura (elaboração própria)\n",
        "> ***\n",
        "\n",
        "Altura do morador em metros.\n",
        "\n",
        "> ### UF\n",
        "> ***\n",
        "\n",
        "|Código|Descrição|\n",
        "|---|---|\n",
        "|11|Rondônia|\n",
        "|12|Acre|\n",
        "|13|Amazonas|\n",
        "|14|Roraima|\n",
        "|15|Pará|\n",
        "|16|Amapá|\n",
        "|17|Tocantins|\n",
        "|21|Maranhão|\n",
        "|22|Piauí|\n",
        "|23|Ceará|\n",
        "|24|Rio Grande do Norte|\n",
        "|25|Paraíba|\n",
        "|26|Pernambuco|\n",
        "|27|Alagoas|\n",
        "|28|Sergipe|\n",
        "|29|Bahia|\n",
        "|31|Minas Gerais|\n",
        "|32|Espírito Santo|\n",
        "|33|Rio de Janeiro|\n",
        "|35|São Paulo|\n",
        "|41|Paraná|\n",
        "|42|Santa Catarina|\n",
        "|43|Rio Grande do Sul|\n",
        "|50|Mato Grosso do Sul|\n",
        "|51|Mato Grosso|\n",
        "|52|Goiás|\n",
        "|53|Distrito Federal|\n",
        "\n",
        "> ### Sexo\t\n",
        "> ***\n",
        "\n",
        "|Código|Descrição|\n",
        "|---|---|\n",
        "|0|Masculino|\n",
        "|1|Feminino|\n",
        "\n",
        "> ### Anos de Estudo\n",
        "> ***\n",
        "\n",
        "|Código|Descrição|\n",
        "|---|---|\n",
        "|1|Sem instrução e menos de 1 ano|\n",
        "|2|1 ano|\n",
        "|3|2 anos|\n",
        "|4|3 anos|\n",
        "|5|4 anos|\n",
        "|6|5 anos|\n",
        "|7|6 anos|\n",
        "|8|7 anos|\n",
        "|9|8 anos|\n",
        "|10|9 anos|\n",
        "|11|10 anos|\n",
        "|12|11 anos|\n",
        "|13|12 anos|\n",
        "|14|13 anos|\n",
        "|15|14 anos|\n",
        "|16|15 anos ou mais|\n",
        "|17|Não determinados| \n",
        "||Não aplicável|\n",
        "\n",
        "> ### Cor\n",
        "> ***\n",
        "\n",
        "|Código|Descrição|\n",
        "|---|---|\n",
        "|0|Indígena|\n",
        "|2|Branca|\n",
        "|4|Preta|\n",
        "|6|Amarela|\n",
        "|8|Parda|\n",
        "|9|Sem declaração|"
      ],
      "metadata":{
        
      }
    },
    {
      "cell_type":"markdown",
      "source":[
        "#### <font color='red'>Observação<\/font>\n",
        "***\n",
        "> Os seguintes tratamentos foram realizados nos dados originais:\n",
        "> 1. Foram eliminados os registros onde a <b>Renda<\/b> era inválida (999 999 999 999);\n",
        "> 2. Foram eliminados os registros onde a <b>Renda<\/b> era missing;\n",
        "> 3. Foram considerados somente os registros das <b>Pessoas de Referência<\/b> de cada domicílio (responsável pelo domicílio)."
      ],
      "metadata":{
        
      }
    },
    {
      "cell_type":"markdown",
      "source":[
        "***\n",
        "***"
      ],
      "metadata":{
        
      }
    },
    {
      "cell_type":"markdown",
      "source":[
        "### Utilize a célula abaixo para importar as biblioteca que precisar para executar as tarefas\n",
        "#### <font color='red'>Sugestões: pandas, numpy, seaborn<\/font>"
      ],
      "metadata":{
        
      }
    },
    {
      "cell_type":"code",
      "source":[
        "import pandas as pd\n",
        "import seaborn as sns\n",
        "import numpy as np\n",
        "import matplotlib.pyplot as plt"
      ],
      "execution_count":0,
      "outputs":[
        
      ],
      "metadata":{
        
      }
    },
    {
      "cell_type":"markdown",
      "source":[
        "### Importe o dataset e armazene o conteúdo em uma DataFrame"
      ],
      "metadata":{
        
      }
    },
    {
      "cell_type":"code",
      "source":[
        "dataset = pd.read_csv('dados.csv')"
      ],
      "execution_count":0,
      "outputs":[
        
      ],
      "metadata":{
        
      }
    },
    {
      "cell_type":"markdown",
      "source":[
        "### Visualize o conteúdo do DataFrame"
      ],
      "metadata":{
        
      }
    },
    {
      "cell_type":"code",
      "source":[
        "dataset.head(10)"
      ],
      "execution_count":0,
      "outputs":[
        {
          "data":{
            "text\/html":[
              "<div>\n",
              "<style scoped>\n",
              "    .dataframe tbody tr th:only-of-type {\n",
              "        vertical-align: middle;\n",
              "    }\n",
              "\n",
              "    .dataframe tbody tr th {\n",
              "        vertical-align: top;\n",
              "    }\n",
              "\n",
              "    .dataframe thead th {\n",
              "        text-align: right;\n",
              "    }\n",
              "<\/style>\n",
              "<table border=\"1\" class=\"dataframe\">\n",
              "  <thead>\n",
              "    <tr style=\"text-align: right;\">\n",
              "      <th><\/th>\n",
              "      <th>UF<\/th>\n",
              "      <th>Sexo<\/th>\n",
              "      <th>Idade<\/th>\n",
              "      <th>Cor<\/th>\n",
              "      <th>Anos de Estudo<\/th>\n",
              "      <th>Renda<\/th>\n",
              "      <th>Altura<\/th>\n",
              "    <\/tr>\n",
              "  <\/thead>\n",
              "  <tbody>\n",
              "    <tr>\n",
              "      <th>0<\/th>\n",
              "      <td>11<\/td>\n",
              "      <td>0<\/td>\n",
              "      <td>23<\/td>\n",
              "      <td>8<\/td>\n",
              "      <td>12<\/td>\n",
              "      <td>800<\/td>\n",
              "      <td>1.603808<\/td>\n",
              "    <\/tr>\n",
              "    <tr>\n",
              "      <th>1<\/th>\n",
              "      <td>11<\/td>\n",
              "      <td>1<\/td>\n",
              "      <td>23<\/td>\n",
              "      <td>2<\/td>\n",
              "      <td>12<\/td>\n",
              "      <td>1150<\/td>\n",
              "      <td>1.739790<\/td>\n",
              "    <\/tr>\n",
              "    <tr>\n",
              "      <th>2<\/th>\n",
              "      <td>11<\/td>\n",
              "      <td>1<\/td>\n",
              "      <td>35<\/td>\n",
              "      <td>8<\/td>\n",
              "      <td>15<\/td>\n",
              "      <td>880<\/td>\n",
              "      <td>1.760444<\/td>\n",
              "    <\/tr>\n",
              "    <tr>\n",
              "      <th>3<\/th>\n",
              "      <td>11<\/td>\n",
              "      <td>0<\/td>\n",
              "      <td>46<\/td>\n",
              "      <td>2<\/td>\n",
              "      <td>6<\/td>\n",
              "      <td>3500<\/td>\n",
              "      <td>1.783158<\/td>\n",
              "    <\/tr>\n",
              "    <tr>\n",
              "      <th>4<\/th>\n",
              "      <td>11<\/td>\n",
              "      <td>1<\/td>\n",
              "      <td>47<\/td>\n",
              "      <td>8<\/td>\n",
              "      <td>9<\/td>\n",
              "      <td>150<\/td>\n",
              "      <td>1.690631<\/td>\n",
              "    <\/tr>\n",
              "    <tr>\n",
              "      <th>5<\/th>\n",
              "      <td>11<\/td>\n",
              "      <td>1<\/td>\n",
              "      <td>34<\/td>\n",
              "      <td>8<\/td>\n",
              "      <td>12<\/td>\n",
              "      <td>790<\/td>\n",
              "      <td>1.637906<\/td>\n",
              "    <\/tr>\n",
              "    <tr>\n",
              "      <th>6<\/th>\n",
              "      <td>11<\/td>\n",
              "      <td>0<\/td>\n",
              "      <td>57<\/td>\n",
              "      <td>8<\/td>\n",
              "      <td>12<\/td>\n",
              "      <td>3150<\/td>\n",
              "      <td>1.570078<\/td>\n",
              "    <\/tr>\n",
              "    <tr>\n",
              "      <th>7<\/th>\n",
              "      <td>11<\/td>\n",
              "      <td>1<\/td>\n",
              "      <td>60<\/td>\n",
              "      <td>8<\/td>\n",
              "      <td>12<\/td>\n",
              "      <td>1700<\/td>\n",
              "      <td>1.608495<\/td>\n",
              "    <\/tr>\n",
              "    <tr>\n",
              "      <th>8<\/th>\n",
              "      <td>11<\/td>\n",
              "      <td>1<\/td>\n",
              "      <td>50<\/td>\n",
              "      <td>4<\/td>\n",
              "      <td>14<\/td>\n",
              "      <td>1800<\/td>\n",
              "      <td>1.780329<\/td>\n",
              "    <\/tr>\n",
              "    <tr>\n",
              "      <th>9<\/th>\n",
              "      <td>11<\/td>\n",
              "      <td>0<\/td>\n",
              "      <td>26<\/td>\n",
              "      <td>8<\/td>\n",
              "      <td>12<\/td>\n",
              "      <td>1150<\/td>\n",
              "      <td>1.793203<\/td>\n",
              "    <\/tr>\n",
              "  <\/tbody>\n",
              "<\/table>\n",
              "<\/div>"
            ]
          },
          "metadata":{
            
          },
          "output_type":"display_data"
        }
      ],
      "metadata":{
        
      }
    },
    {
      "cell_type":"markdown",
      "source":[
        "### Para avaliarmos o comportamento da variável RENDA vamos construir uma tabela de frequências considerando as seguintes classes em salários mínimos (SM)\n",
        "#### <font color='blue'>Descreva os pontos mais relevantes que você observa na tabela e no gráfico.<\/font>\n",
        "\n",
        "Classes de renda:\n",
        "\n",
        "<b>A<\/b> ► Acima de 25 SM\n",
        "\n",
        "<b>B<\/b> ► De 15 a 25 SM\n",
        "\n",
        "<b>C<\/b> ► De 5 a 15 SM\n",
        "\n",
        "<b>D<\/b> ► De 2 a 5 SM\n",
        "\n",
        "<b>E<\/b> ► Até 2 SM\n",
        "\n",
        "Para construir as classes de renda considere que o salário mínimo na época da pesquisa era de <b>R$ 788,00<\/b>.\n",
        "\n",
        "#### Siga os passos abaixo:"
      ],
      "metadata":{
        
      }
    },
    {
      "cell_type":"markdown",
      "source":[
        "### 1º Definir os intevalos das classes em reais (R$)"
      ],
      "metadata":{
        
      }
    },
    {
      "cell_type":"code",
      "source":[
        "dataset.Renda.max()"
      ],
      "execution_count":0,
      "outputs":[
        {
          "data":{
            "text\/plain":[
              "200000"
            ]
          },
          "metadata":{
            
          },
          "output_type":"display_data"
        }
      ],
      "metadata":{
        
      }
    },
    {
      "cell_type":"code",
      "source":[
        "classes = [0,2*788, 5*788, 15*788, 25*788, 200000]\n",
        "classes"
      ],
      "execution_count":0,
      "outputs":[
        {
          "data":{
            "text\/plain":[
              "[0, 1576, 3940, 11820, 19700, 200000]"
            ]
          },
          "metadata":{
            
          },
          "output_type":"display_data"
        }
      ],
      "metadata":{
        
      }
    },
    {
      "cell_type":"markdown",
      "source":[
        "### 2º Definir os labels das classes"
      ],
      "metadata":{
        
      }
    },
    {
      "cell_type":"code",
      "source":[
        "labels = ['E','D','C','B','A']\n",
        "labels"
      ],
      "execution_count":0,
      "outputs":[
        {
          "data":{
            "text\/plain":[
              "['E', 'D', 'C', 'B', 'A']"
            ]
          },
          "metadata":{
            
          },
          "output_type":"display_data"
        }
      ],
      "metadata":{
        
      }
    },
    {
      "cell_type":"markdown",
      "source":[
        "### 3º Construir a coluna de frequências"
      ],
      "metadata":{
        
      }
    },
    {
      "cell_type":"code",
      "source":[
        "atribuindo_as_classes = pd.cut(dataset['Renda'],include_lowest= True, bins= classes, labels=labels)\n",
        "atribuindo_as_classes"
      ],
      "execution_count":0,
      "outputs":[
        {
          "data":{
            "text\/plain":[
              "0        E\n",
              "1        E\n",
              "2        E\n",
              "3        D\n",
              "4        E\n",
              "        ..\n",
              "76835    E\n",
              "76836    E\n",
              "76837    E\n",
              "76838    E\n",
              "76839    E\n",
              "Name: Renda, Length: 76840, dtype: category\n",
              "Categories (5, object): ['E' < 'D' < 'C' < 'B' < 'A']"
            ]
          },
          "metadata":{
            
          },
          "output_type":"display_data"
        }
      ],
      "metadata":{
        
      }
    },
    {
      "cell_type":"code",
      "source":[
        "agrupando_as_classes_frequencia_acumulada = pd.value_counts(atribuindo_as_classes)\n",
        "agrupando_as_classes_frequencia_acumulada"
      ],
      "execution_count":0,
      "outputs":[
        {
          "data":{
            "text\/plain":[
              "E    49755\n",
              "D    18602\n",
              "C     7241\n",
              "B      822\n",
              "A      420\n",
              "Name: Renda, dtype: int64"
            ]
          },
          "metadata":{
            
          },
          "output_type":"display_data"
        }
      ],
      "metadata":{
        
      }
    },
    {
      "cell_type":"markdown",
      "source":[
        "### 4º Construir a coluna de percentuais"
      ],
      "metadata":{
        
      }
    },
    {
      "cell_type":"code",
      "source":[
        "agrupando_as_classe_frequencia_relativa = pd.value_counts(atribuindo_as_classes, normalize= True)\n",
        "agrupando_as_classe_frequencia_relativa"
      ],
      "execution_count":0,
      "outputs":[
        {
          "data":{
            "text\/plain":[
              "E    0.647514\n",
              "D    0.242087\n",
              "C    0.094235\n",
              "B    0.010698\n",
              "A    0.005466\n",
              "Name: Renda, dtype: float64"
            ]
          },
          "metadata":{
            
          },
          "output_type":"display_data"
        }
      ],
      "metadata":{
        
      }
    },
    {
      "cell_type":"markdown",
      "source":[
        "### 5º Juntar as colunas de frequência e percentuais e ordenar as linhas de acordo com os labels das classes"
      ],
      "metadata":{
        
      }
    },
    {
      "cell_type":"code",
      "source":[
        "df = pd.DataFrame({'Frequencia Acumulada': agrupando_as_classes_frequencia_acumulada, 'Frequencia Relativa (%)': agrupando_as_classe_frequencia_relativa})\n",
        "df.sort_index(ascending=False)"
      ],
      "execution_count":0,
      "outputs":[
        {
          "data":{
            "text\/html":[
              "<div>\n",
              "<style scoped>\n",
              "    .dataframe tbody tr th:only-of-type {\n",
              "        vertical-align: middle;\n",
              "    }\n",
              "\n",
              "    .dataframe tbody tr th {\n",
              "        vertical-align: top;\n",
              "    }\n",
              "\n",
              "    .dataframe thead th {\n",
              "        text-align: right;\n",
              "    }\n",
              "<\/style>\n",
              "<table border=\"1\" class=\"dataframe\">\n",
              "  <thead>\n",
              "    <tr style=\"text-align: right;\">\n",
              "      <th><\/th>\n",
              "      <th>Frequencia Acumulada<\/th>\n",
              "      <th>Frequencia Relativa (%)<\/th>\n",
              "    <\/tr>\n",
              "  <\/thead>\n",
              "  <tbody>\n",
              "    <tr>\n",
              "      <th>A<\/th>\n",
              "      <td>420<\/td>\n",
              "      <td>0.005466<\/td>\n",
              "    <\/tr>\n",
              "    <tr>\n",
              "      <th>B<\/th>\n",
              "      <td>822<\/td>\n",
              "      <td>0.010698<\/td>\n",
              "    <\/tr>\n",
              "    <tr>\n",
              "      <th>C<\/th>\n",
              "      <td>7241<\/td>\n",
              "      <td>0.094235<\/td>\n",
              "    <\/tr>\n",
              "    <tr>\n",
              "      <th>D<\/th>\n",
              "      <td>18602<\/td>\n",
              "      <td>0.242087<\/td>\n",
              "    <\/tr>\n",
              "    <tr>\n",
              "      <th>E<\/th>\n",
              "      <td>49755<\/td>\n",
              "      <td>0.647514<\/td>\n",
              "    <\/tr>\n",
              "  <\/tbody>\n",
              "<\/table>\n",
              "<\/div>"
            ]
          },
          "metadata":{
            
          },
          "output_type":"display_data"
        }
      ],
      "metadata":{
        
      }
    },
    {
      "cell_type":"markdown",
      "source":[
        "### Construa um gráfico de barras para visualizar as informações da tabela de frequências acima"
      ],
      "metadata":{
        
      }
    },
    {
      "cell_type":"code",
      "source":[
        "sns.set_theme(style='whitegrid')\n",
        "tips = sns.load_dataset('tips')\n",
        "ax= sns.barplot(x=labels, y=df['Frequencia Relativa (%)'])\n",
        "\n"
      ],
      "execution_count":0,
      "outputs":[
        {
          "data":{
            "image\/png":"[encoded data removed]"
          },
          "metadata":{
            "image\/png":{
              "width":0,
              "height":0
            }
          },
          "output_type":"display_data"
        }
      ],
      "metadata":{
        
      }
    },
    {
      "cell_type":"markdown",
      "source":[
        "> ### Conclusões\n",
        "\n",
        "Escreva suas conclusões aqui..."
      ],
      "metadata":{
        
      }
    },
    {
      "cell_type":"markdown",
      "source":[
        "### Crie um histograma para as variáveis QUANTITATIVAS de nosso dataset\n",
        "#### <font color='blue'>Descreva os pontos mais relevantes que você observa nos gráficos (assimetrias e seus tipos, possíveis causas para determinados comportamentos etc.)<\/font>"
      ],
      "metadata":{
        
      }
    },
    {
      "cell_type":"code",
      "source":[
        "sns.set_theme(style=\"darkgrid\")\n",
        "ax = sns.histplot(dataset.query('Renda <= 11000').Renda, kde= True)\n",
        "ax.figure.set_size_inches(12,6)\n",
        "ax.set_title('Distribuição de Frequência - Renda', fontsize=18)\n",
        "ax.set_xlabel('R$', fontsize=14)\n",
        "ax.set_yticks([2000,4000,6000,8000])\n",
        "ax.set_xticks([0,1576, 3152, 4728, 6304, 7880, 9456, 11032])\n",
        "ax.annotate('Salario Mínimo', xy=(788, 6100), xytext=(1576, 6000),\n",
        "            arrowprops=dict(facecolor='black', shrink=0.05),\n",
        "            )\n",
        "ax"
      ],
      "execution_count":0,
      "outputs":[
        {
          "data":{
            "text\/plain":[
              "<AxesSubplot:title={'center':'Distribuição de Frequência - Renda'}, xlabel='R$', ylabel='Count'>"
            ],
            "image\/png":"[encoded data removed]"
          },
          "metadata":{
            "image\/png":{
              "width":0,
              "height":0
            }
          },
          "output_type":"display_data"
        }
      ],
      "metadata":{
        
      }
    },
    {
      "cell_type":"code",
      "source":[
        "sns.set_theme(style=\"darkgrid\")\n",
        "ax = sns.histplot(dataset.query('Renda < 1576').Renda, kde= True,)\n",
        "ax.figure.set_size_inches(12,6)\n",
        "ax.set_title('Distribuição de Frequência - Classe E até 2SM', fontsize=18)\n",
        "ax.set_xlabel('R$', fontsize=14)\n",
        "\n",
        "\n",
        "ax.annotate('Salario Mínimo', xy=(788, 6100), xytext=(400, 6000),\n",
        "            arrowprops=dict(facecolor='black', shrink=0.05),\n",
        "            )\n",
        "ax"
      ],
      "execution_count":0,
      "outputs":[
        {
          "data":{
            "text\/plain":[
              "<AxesSubplot:title={'center':'Distribuição de Frequência - Classe E até 2SM'}, xlabel='R$', ylabel='Count'>"
            ],
            "image\/png":"[encoded data removed]"
          },
          "metadata":{
            "image\/png":{
              "width":0,
              "height":0
            }
          },
          "output_type":"display_data"
        }
      ],
      "metadata":{
        
      }
    },
    {
      "cell_type":"code",
      "source":[
        "sns.set_theme(style=\"darkgrid\")\n",
        "ax = sns.histplot(dataset.query('Renda >= 1576 & Renda<3940').Renda, kde= True)\n",
        "ax.figure.set_size_inches(12,6)\n",
        "ax.set_title('Distribuição de Frequência - Classe D: de 2 a 5 SM', fontsize=18)\n",
        "ax.set_xlabel('R$', fontsize=14)\n",
        "\n",
        "ax"
      ],
      "execution_count":0,
      "outputs":[
        {
          "data":{
            "text\/plain":[
              "<AxesSubplot:title={'center':'Distribuição de Frequência - Classe D: de 2 a 5 SM'}, xlabel='R$', ylabel='Count'>"
            ],
            "image\/png":"[encoded data removed]"
          },
          "metadata":{
            "image\/png":{
              "width":0,
              "height":0
            }
          },
          "output_type":"display_data"
        }
      ],
      "metadata":{
        
      }
    },
    {
      "cell_type":"code",
      "source":[
        "sns.set_theme(style=\"darkgrid\")\n",
        "ax = sns.histplot(dataset.query('Renda >= 3940 & Renda<11820').Renda, kde= True)\n",
        "ax.figure.set_size_inches(12,6)\n",
        "ax.set_title('Distribuição de Frequência - Classe C: de 5 a 15 SM', fontsize=18)\n",
        "ax.set_xlabel('R$', fontsize=14)\n",
        "\n",
        "ax"
      ],
      "execution_count":0,
      "outputs":[
        {
          "data":{
            "text\/plain":[
              "<AxesSubplot:title={'center':'Distribuição de Frequência - Classe C: de 5 a 15 SM'}, xlabel='R$', ylabel='Count'>"
            ],
            "image\/png":"[encoded data removed]"
          },
          "metadata":{
            "image\/png":{
              "width":0,
              "height":0
            }
          },
          "output_type":"display_data"
        }
      ],
      "metadata":{
        
      }
    },
    {
      "cell_type":"code",
      "source":[
        "ax = sns.histplot(dataset.Altura, kde= False)\n",
        "ax.figure.set_size_inches(12,6)\n",
        "ax.set_title('Distribuição de Frequência - Altura', fontsize=18)\n",
        "ax.set_xlabel('Metros', fontsize=14)\n",
        "ax"
      ],
      "execution_count":0,
      "outputs":[
        {
          "data":{
            "text\/plain":[
              "<AxesSubplot:title={'center':'Distribuição de Frequência - Altura'}, xlabel='Metros', ylabel='Count'>"
            ],
            "image\/png":"[encoded data removed]"
          },
          "metadata":{
            "image\/png":{
              "width":0,
              "height":0
            }
          },
          "output_type":"display_data"
        }
      ],
      "metadata":{
        
      }
    },
    {
      "cell_type":"code",
      "source":[
        
      ],
      "execution_count":0,
      "outputs":[
        
      ],
      "metadata":{
        
      }
    },
    {
      "cell_type":"code",
      "source":[
        
      ],
      "execution_count":0,
      "outputs":[
        
      ],
      "metadata":{
        
      }
    },
    {
      "cell_type":"markdown",
      "source":[
        "> ### Conclusões\n",
        "\n",
        "Escreva suas conclusões aqui..."
      ],
      "metadata":{
        
      }
    },
    {
      "cell_type":"markdown",
      "source":[
        "### Para a variável RENDA, construa um histograma somente com as informações das pessoas com rendimento até R$ 20.000,00"
      ],
      "metadata":{
        
      }
    },
    {
      "cell_type":"code",
      "source":[
        "sns.set_theme(style=\"darkgrid\")\n",
        "ax = sns.histplot(dataset.query('Renda <= 20000').Renda, kde= False)\n",
        "ax.figure.set_size_inches(12,6)\n",
        "ax.set_title('Distribuição de Frequência - Renda', fontsize=18)\n",
        "ax.set_xlabel('R$', fontsize=14)\n",
        "ax.annotate('Salario Mínimo', xy=(788, 6100), xytext=(1576, 6000),\n",
        "            arrowprops=dict(facecolor='black', shrink=0.05),\n",
        "            )\n",
        "ax"
      ],
      "execution_count":0,
      "outputs":[
        {
          "data":{
            "text\/plain":[
              "<AxesSubplot:title={'center':'Distribuição de Frequência - Renda'}, xlabel='R$', ylabel='Count'>"
            ],
            "image\/png":"[encoded data removed]"
          },
          "metadata":{
            "image\/png":{
              "width":0,
              "height":0
            }
          },
          "output_type":"display_data"
        }
      ],
      "metadata":{
        
      }
    },
    {
      "cell_type":"markdown",
      "source":[
        "### Construa uma tabela de frequências e uma com os percentuais do cruzando das variáveis SEXO e COR\n",
        "#### <font color='blue'>Avalie o resultado da tabela e escreva suas principais conclusões<\/font>\n",
        "#### <font color='red'>Utilize os dicionários abaixo para renomear as linha e colunas das tabelas de frequências e dos gráficos em nosso projeto<\/font>"
      ],
      "metadata":{
        
      }
    },
    {
      "cell_type":"code",
      "source":[
        "dataset.Cor.replace({\n",
        "    0: 'Indígena', \n",
        "    2: 'Branca', \n",
        "    4: 'Preta', \n",
        "    6: 'Amarela', \n",
        "    8: 'Parda', \n",
        "    9: 'Sem declaração'\n",
        "}, inplace=True)"
      ],
      "execution_count":0,
      "outputs":[
        
      ],
      "metadata":{
        
      }
    },
    {
      "cell_type":"code",
      "source":[
        "dataset.UF.replace({\n",
        "    11: 'Rondônia', \n",
        "    12: 'Acre', \n",
        "    13: 'Amazonas', \n",
        "    14: 'Roraima', \n",
        "    15: 'Pará', \n",
        "    16: 'Amapá', \n",
        "    17: 'Tocantins', \n",
        "    21: 'Maranhão', \n",
        "    22: 'Piauí', \n",
        "    23: 'Ceará', \n",
        "    24: 'Rio Grande do Norte', \n",
        "    25: 'Paraíba', \n",
        "    26: 'Pernambuco', \n",
        "    27: 'Alagoas', \n",
        "    28: 'Sergipe', \n",
        "    29: 'Bahia', \n",
        "    31: 'Minas Gerais', \n",
        "    32: 'Espírito Santo', \n",
        "    33: 'Rio de Janeiro', \n",
        "    35: 'São Paulo', \n",
        "    41: 'Paraná', \n",
        "    42: 'Santa Catarina', \n",
        "    43: 'Rio Grande do Sul', \n",
        "    50: 'Mato Grosso do Sul', \n",
        "    51: 'Mato Grosso', \n",
        "    52: 'Goiás', \n",
        "    53: 'Distrito Federal'\n",
        "}, inplace = True)"
      ],
      "execution_count":0,
      "outputs":[
        
      ],
      "metadata":{
        
      }
    },
    {
      "cell_type":"code",
      "source":[
        "dataset.Sexo.replace([0,1],['Masculino','Feminino'], inplace=True )"
      ],
      "execution_count":0,
      "outputs":[
        
      ],
      "metadata":{
        
      }
    },
    {
      "cell_type":"code",
      "source":[
        "dataset['Anos de Estudo'].replace({\n",
        "    1: 'Sem instrução e menos de 1 ano', \n",
        "    2: '1 ano', \n",
        "    3: '2 anos', \n",
        "    4: '3 anos', \n",
        "    5: '4 anos', \n",
        "    6: '5 anos', \n",
        "    7: '6 anos', \n",
        "    8: '7 anos', \n",
        "    9: '8 anos', \n",
        "    10: '9 anos', \n",
        "    11: '10 anos', \n",
        "    12: '11 anos', \n",
        "    13: '12 anos', \n",
        "    14: '13 anos', \n",
        "    15: '14 anos', \n",
        "    16: '15 anos ou mais', \n",
        "    17: 'Não determinados'\n",
        "},inplace=True)"
      ],
      "execution_count":0,
      "outputs":[
        
      ],
      "metadata":{
        
      }
    },
    {
      "cell_type":"code",
      "source":[
        "dataset.head()"
      ],
      "execution_count":0,
      "outputs":[
        {
          "data":{
            "text\/html":[
              "<div>\n",
              "<style scoped>\n",
              "    .dataframe tbody tr th:only-of-type {\n",
              "        vertical-align: middle;\n",
              "    }\n",
              "\n",
              "    .dataframe tbody tr th {\n",
              "        vertical-align: top;\n",
              "    }\n",
              "\n",
              "    .dataframe thead th {\n",
              "        text-align: right;\n",
              "    }\n",
              "<\/style>\n",
              "<table border=\"1\" class=\"dataframe\">\n",
              "  <thead>\n",
              "    <tr style=\"text-align: right;\">\n",
              "      <th><\/th>\n",
              "      <th>UF<\/th>\n",
              "      <th>Sexo<\/th>\n",
              "      <th>Idade<\/th>\n",
              "      <th>Cor<\/th>\n",
              "      <th>Anos de Estudo<\/th>\n",
              "      <th>Renda<\/th>\n",
              "      <th>Altura<\/th>\n",
              "    <\/tr>\n",
              "  <\/thead>\n",
              "  <tbody>\n",
              "    <tr>\n",
              "      <th>0<\/th>\n",
              "      <td>Rondônia<\/td>\n",
              "      <td>Masculino<\/td>\n",
              "      <td>23<\/td>\n",
              "      <td>Parda<\/td>\n",
              "      <td>11 anos<\/td>\n",
              "      <td>800<\/td>\n",
              "      <td>1.603808<\/td>\n",
              "    <\/tr>\n",
              "    <tr>\n",
              "      <th>1<\/th>\n",
              "      <td>Rondônia<\/td>\n",
              "      <td>Feminino<\/td>\n",
              "      <td>23<\/td>\n",
              "      <td>Branca<\/td>\n",
              "      <td>11 anos<\/td>\n",
              "      <td>1150<\/td>\n",
              "      <td>1.739790<\/td>\n",
              "    <\/tr>\n",
              "    <tr>\n",
              "      <th>2<\/th>\n",
              "      <td>Rondônia<\/td>\n",
              "      <td>Feminino<\/td>\n",
              "      <td>35<\/td>\n",
              "      <td>Parda<\/td>\n",
              "      <td>14 anos<\/td>\n",
              "      <td>880<\/td>\n",
              "      <td>1.760444<\/td>\n",
              "    <\/tr>\n",
              "    <tr>\n",
              "      <th>3<\/th>\n",
              "      <td>Rondônia<\/td>\n",
              "      <td>Masculino<\/td>\n",
              "      <td>46<\/td>\n",
              "      <td>Branca<\/td>\n",
              "      <td>5 anos<\/td>\n",
              "      <td>3500<\/td>\n",
              "      <td>1.783158<\/td>\n",
              "    <\/tr>\n",
              "    <tr>\n",
              "      <th>4<\/th>\n",
              "      <td>Rondônia<\/td>\n",
              "      <td>Feminino<\/td>\n",
              "      <td>47<\/td>\n",
              "      <td>Parda<\/td>\n",
              "      <td>8 anos<\/td>\n",
              "      <td>150<\/td>\n",
              "      <td>1.690631<\/td>\n",
              "    <\/tr>\n",
              "  <\/tbody>\n",
              "<\/table>\n",
              "<\/div>"
            ]
          },
          "metadata":{
            
          },
          "output_type":"display_data"
        }
      ],
      "metadata":{
        
      }
    },
    {
      "cell_type":"code",
      "source":[
        "agrupando_por_cor_frequencia = pd.value_counts(dataset.Cor)\n",
        "agrupando_por_cor_frequencia"
      ],
      "execution_count":0,
      "outputs":[
        {
          "data":{
            "text\/plain":[
              "Parda       35925\n",
              "Branca      31815\n",
              "Preta        8391\n",
              "Indígena      357\n",
              "Amarela       352\n",
              "Name: Cor, dtype: int64"
            ]
          },
          "metadata":{
            
          },
          "output_type":"display_data"
        }
      ],
      "metadata":{
        
      }
    },
    {
      "cell_type":"code",
      "source":[
        "agrupando_por_cor_percentual = pd.value_counts(dataset.Cor, normalize=True)\n",
        "agrupando_por_cor_percentual"
      ],
      "execution_count":0,
      "outputs":[
        {
          "data":{
            "text\/plain":[
              "Parda       0.467530\n",
              "Branca      0.414042\n",
              "Preta       0.109201\n",
              "Indígena    0.004646\n",
              "Amarela     0.004581\n",
              "Name: Cor, dtype: float64"
            ]
          },
          "metadata":{
            
          },
          "output_type":"display_data"
        }
      ],
      "metadata":{
        
      }
    },
    {
      "cell_type":"code",
      "source":[
        "agrupando_por_sexo_frequencia = pd.value_counts(dataset.Sexo)\n",
        "agrupando_por_sexo_frequencia"
      ],
      "execution_count":0,
      "outputs":[
        {
          "data":{
            "text\/plain":[
              "Masculino    53250\n",
              "Feminino     23590\n",
              "Name: Sexo, dtype: int64"
            ]
          },
          "metadata":{
            
          },
          "output_type":"display_data"
        }
      ],
      "metadata":{
        
      }
    },
    {
      "cell_type":"code",
      "source":[
        "agrupando_por_sexo_percentual = pd.value_counts(dataset.Sexo, normalize=True)\n",
        "agrupando_por_sexo_percentual"
      ],
      "execution_count":0,
      "outputs":[
        {
          "data":{
            "text\/plain":[
              "Masculino    0.692998\n",
              "Feminino     0.307002\n",
              "Name: Sexo, dtype: float64"
            ]
          },
          "metadata":{
            
          },
          "output_type":"display_data"
        }
      ],
      "metadata":{
        
      }
    },
    {
      "cell_type":"code",
      "source":[
        "pd.crosstab(dataset.Cor,dataset.Sexo)"
      ],
      "execution_count":0,
      "outputs":[
        {
          "data":{
            "text\/html":[
              "<div>\n",
              "<style scoped>\n",
              "    .dataframe tbody tr th:only-of-type {\n",
              "        vertical-align: middle;\n",
              "    }\n",
              "\n",
              "    .dataframe tbody tr th {\n",
              "        vertical-align: top;\n",
              "    }\n",
              "\n",
              "    .dataframe thead th {\n",
              "        text-align: right;\n",
              "    }\n",
              "<\/style>\n",
              "<table border=\"1\" class=\"dataframe\">\n",
              "  <thead>\n",
              "    <tr style=\"text-align: right;\">\n",
              "      <th>Sexo<\/th>\n",
              "      <th>Feminino<\/th>\n",
              "      <th>Masculino<\/th>\n",
              "    <\/tr>\n",
              "    <tr>\n",
              "      <th>Cor<\/th>\n",
              "      <th><\/th>\n",
              "      <th><\/th>\n",
              "    <\/tr>\n",
              "  <\/thead>\n",
              "  <tbody>\n",
              "    <tr>\n",
              "      <th>Amarela<\/th>\n",
              "      <td>117<\/td>\n",
              "      <td>235<\/td>\n",
              "    <\/tr>\n",
              "    <tr>\n",
              "      <th>Branca<\/th>\n",
              "      <td>9621<\/td>\n",
              "      <td>22194<\/td>\n",
              "    <\/tr>\n",
              "    <tr>\n",
              "      <th>Indígena<\/th>\n",
              "      <td>101<\/td>\n",
              "      <td>256<\/td>\n",
              "    <\/tr>\n",
              "    <tr>\n",
              "      <th>Parda<\/th>\n",
              "      <td>10862<\/td>\n",
              "      <td>25063<\/td>\n",
              "    <\/tr>\n",
              "    <tr>\n",
              "      <th>Preta<\/th>\n",
              "      <td>2889<\/td>\n",
              "      <td>5502<\/td>\n",
              "    <\/tr>\n",
              "  <\/tbody>\n",
              "<\/table>\n",
              "<\/div>"
            ]
          },
          "metadata":{
            
          },
          "output_type":"display_data"
        }
      ],
      "metadata":{
        
      }
    },
    {
      "cell_type":"code",
      "source":[
        "pd.crosstab(dataset.Cor, dataset.Sexo, normalize= True).round(4)"
      ],
      "execution_count":0,
      "outputs":[
        {
          "data":{
            "text\/html":[
              "<div>\n",
              "<style scoped>\n",
              "    .dataframe tbody tr th:only-of-type {\n",
              "        vertical-align: middle;\n",
              "    }\n",
              "\n",
              "    .dataframe tbody tr th {\n",
              "        vertical-align: top;\n",
              "    }\n",
              "\n",
              "    .dataframe thead th {\n",
              "        text-align: right;\n",
              "    }\n",
              "<\/style>\n",
              "<table border=\"1\" class=\"dataframe\">\n",
              "  <thead>\n",
              "    <tr style=\"text-align: right;\">\n",
              "      <th>Sexo<\/th>\n",
              "      <th>Feminino<\/th>\n",
              "      <th>Masculino<\/th>\n",
              "    <\/tr>\n",
              "    <tr>\n",
              "      <th>Cor<\/th>\n",
              "      <th><\/th>\n",
              "      <th><\/th>\n",
              "    <\/tr>\n",
              "  <\/thead>\n",
              "  <tbody>\n",
              "    <tr>\n",
              "      <th>Amarela<\/th>\n",
              "      <td>0.0015<\/td>\n",
              "      <td>0.0031<\/td>\n",
              "    <\/tr>\n",
              "    <tr>\n",
              "      <th>Branca<\/th>\n",
              "      <td>0.1252<\/td>\n",
              "      <td>0.2888<\/td>\n",
              "    <\/tr>\n",
              "    <tr>\n",
              "      <th>Indígena<\/th>\n",
              "      <td>0.0013<\/td>\n",
              "      <td>0.0033<\/td>\n",
              "    <\/tr>\n",
              "    <tr>\n",
              "      <th>Parda<\/th>\n",
              "      <td>0.1414<\/td>\n",
              "      <td>0.3262<\/td>\n",
              "    <\/tr>\n",
              "    <tr>\n",
              "      <th>Preta<\/th>\n",
              "      <td>0.0376<\/td>\n",
              "      <td>0.0716<\/td>\n",
              "    <\/tr>\n",
              "  <\/tbody>\n",
              "<\/table>\n",
              "<\/div>"
            ]
          },
          "metadata":{
            
          },
          "output_type":"display_data"
        }
      ],
      "metadata":{
        
      }
    },
    {
      "cell_type":"markdown",
      "source":[
        "> ### Conclusões\n",
        "\n",
        "Escreva suas conclusões aqui..."
      ],
      "metadata":{
        
      }
    },
    {
      "cell_type":"markdown",
      "source":[
        "## Realize, para a variável RENDA, uma análise descritiva com as ferramentas que aprendemos em nosso treinamento"
      ],
      "metadata":{
        
      }
    },
    {
      "cell_type":"markdown",
      "source":[
        "### Obtenha a média aritimética"
      ],
      "metadata":{
        
      }
    },
    {
      "cell_type":"code",
      "source":[
        "dataset.Renda.mean()"
      ],
      "execution_count":0,
      "outputs":[
        {
          "data":{
            "text\/plain":[
              "2000.3831988547631"
            ]
          },
          "metadata":{
            
          },
          "output_type":"display_data"
        }
      ],
      "metadata":{
        
      }
    },
    {
      "cell_type":"markdown",
      "source":[
        "### Obtenha a mediana"
      ],
      "metadata":{
        
      }
    },
    {
      "cell_type":"code",
      "source":[
        "dataset.Renda.median()"
      ],
      "execution_count":0,
      "outputs":[
        {
          "data":{
            "text\/plain":[
              "1200.0"
            ]
          },
          "metadata":{
            
          },
          "output_type":"display_data"
        }
      ],
      "metadata":{
        
      }
    },
    {
      "cell_type":"markdown",
      "source":[
        "### Obtenha a moda"
      ],
      "metadata":{
        
      }
    },
    {
      "cell_type":"code",
      "source":[
        "dataset.Renda.mode()[0]"
      ],
      "execution_count":0,
      "outputs":[
        {
          "data":{
            "text\/plain":[
              "788"
            ]
          },
          "metadata":{
            
          },
          "output_type":"display_data"
        }
      ],
      "metadata":{
        
      }
    },
    {
      "cell_type":"markdown",
      "source":[
        "### Obtenha o desvio médio absoluto"
      ],
      "metadata":{
        
      }
    },
    {
      "cell_type":"code",
      "source":[
        "dataset.Renda.mad()"
      ],
      "execution_count":0,
      "outputs":[
        {
          "data":{
            "text\/plain":[
              "1526.4951371638058"
            ]
          },
          "metadata":{
            
          },
          "output_type":"display_data"
        }
      ],
      "metadata":{
        
      }
    },
    {
      "cell_type":"markdown",
      "source":[
        "### Obtenha a variância"
      ],
      "metadata":{
        
      }
    },
    {
      "cell_type":"code",
      "source":[
        "dataset.Renda.var()"
      ],
      "execution_count":0,
      "outputs":[
        {
          "data":{
            "text\/plain":[
              "11044906.006217021"
            ]
          },
          "metadata":{
            
          },
          "output_type":"display_data"
        }
      ],
      "metadata":{
        
      }
    },
    {
      "cell_type":"markdown",
      "source":[
        "### Obtenha o desvio-padrão"
      ],
      "metadata":{
        
      }
    },
    {
      "cell_type":"code",
      "source":[
        "dataset.Renda.std()"
      ],
      "execution_count":0,
      "outputs":[
        {
          "data":{
            "text\/plain":[
              "3323.3877303464037"
            ]
          },
          "metadata":{
            
          },
          "output_type":"display_data"
        }
      ],
      "metadata":{
        
      }
    },
    {
      "cell_type":"markdown",
      "source":[
        "### Obtenha a média, mediana e valor máximo da variável RENDA segundo SEXO e COR\n",
        "#### <font color='blue'>Destaque os pontos mais importante que você observa nas tabulações<\/font>\n",
        "#### <font color='red'>O parâmento <i>aggfunc<\/i> da função <i>crosstab()<\/i> pode receber uma lista de funções. Exemplo: <i>aggfunc = {'mean', 'median', 'max'}<\/i><\/font>"
      ],
      "metadata":{
        
      }
    },
    {
      "cell_type":"code",
      "source":[
        "pd.crosstab(dataset.Sexo, dataset.Cor, aggfunc={'mean', 'median', 'max'}, values=dataset.Renda).round(2)"
      ],
      "execution_count":0,
      "outputs":[
        {
          "data":{
            "text\/html":[
              "<div>\n",
              "<style scoped>\n",
              "    .dataframe tbody tr th:only-of-type {\n",
              "        vertical-align: middle;\n",
              "    }\n",
              "\n",
              "    .dataframe tbody tr th {\n",
              "        vertical-align: top;\n",
              "    }\n",
              "\n",
              "    .dataframe thead tr th {\n",
              "        text-align: left;\n",
              "    }\n",
              "\n",
              "    .dataframe thead tr:last-of-type th {\n",
              "        text-align: right;\n",
              "    }\n",
              "<\/style>\n",
              "<table border=\"1\" class=\"dataframe\">\n",
              "  <thead>\n",
              "    <tr>\n",
              "      <th><\/th>\n",
              "      <th colspan=\"5\" halign=\"left\">max<\/th>\n",
              "      <th colspan=\"5\" halign=\"left\">mean<\/th>\n",
              "      <th colspan=\"5\" halign=\"left\">median<\/th>\n",
              "    <\/tr>\n",
              "    <tr>\n",
              "      <th>Cor<\/th>\n",
              "      <th>Amarela<\/th>\n",
              "      <th>Branca<\/th>\n",
              "      <th>Indígena<\/th>\n",
              "      <th>Parda<\/th>\n",
              "      <th>Preta<\/th>\n",
              "      <th>Amarela<\/th>\n",
              "      <th>Branca<\/th>\n",
              "      <th>Indígena<\/th>\n",
              "      <th>Parda<\/th>\n",
              "      <th>Preta<\/th>\n",
              "      <th>Amarela<\/th>\n",
              "      <th>Branca<\/th>\n",
              "      <th>Indígena<\/th>\n",
              "      <th>Parda<\/th>\n",
              "      <th>Preta<\/th>\n",
              "    <\/tr>\n",
              "    <tr>\n",
              "      <th>Sexo<\/th>\n",
              "      <th><\/th>\n",
              "      <th><\/th>\n",
              "      <th><\/th>\n",
              "      <th><\/th>\n",
              "      <th><\/th>\n",
              "      <th><\/th>\n",
              "      <th><\/th>\n",
              "      <th><\/th>\n",
              "      <th><\/th>\n",
              "      <th><\/th>\n",
              "      <th><\/th>\n",
              "      <th><\/th>\n",
              "      <th><\/th>\n",
              "      <th><\/th>\n",
              "      <th><\/th>\n",
              "    <\/tr>\n",
              "  <\/thead>\n",
              "  <tbody>\n",
              "    <tr>\n",
              "      <th>Feminino<\/th>\n",
              "      <td>20000.0<\/td>\n",
              "      <td>100000.0<\/td>\n",
              "      <td>120000.0<\/td>\n",
              "      <td>30000.0<\/td>\n",
              "      <td>23000.0<\/td>\n",
              "      <td>3027.34<\/td>\n",
              "      <td>2109.87<\/td>\n",
              "      <td>2464.39<\/td>\n",
              "      <td>1176.76<\/td>\n",
              "      <td>1134.60<\/td>\n",
              "      <td>1500.0<\/td>\n",
              "      <td>1200.0<\/td>\n",
              "      <td>788.0<\/td>\n",
              "      <td>800.0<\/td>\n",
              "      <td>800.0<\/td>\n",
              "    <\/tr>\n",
              "    <tr>\n",
              "      <th>Masculino<\/th>\n",
              "      <td>50000.0<\/td>\n",
              "      <td>200000.0<\/td>\n",
              "      <td>10000.0<\/td>\n",
              "      <td>100000.0<\/td>\n",
              "      <td>50000.0<\/td>\n",
              "      <td>4758.25<\/td>\n",
              "      <td>2925.74<\/td>\n",
              "      <td>1081.71<\/td>\n",
              "      <td>1659.58<\/td>\n",
              "      <td>1603.86<\/td>\n",
              "      <td>2800.0<\/td>\n",
              "      <td>1700.0<\/td>\n",
              "      <td>797.5<\/td>\n",
              "      <td>1200.0<\/td>\n",
              "      <td>1200.0<\/td>\n",
              "    <\/tr>\n",
              "  <\/tbody>\n",
              "<\/table>\n",
              "<\/div>"
            ]
          },
          "metadata":{
            
          },
          "output_type":"display_data"
        }
      ],
      "metadata":{
        
      }
    },
    {
      "cell_type":"markdown",
      "source":[
        "> ### Conclusões\n",
        "\n",
        "Escreva suas conclusões aqui..."
      ],
      "metadata":{
        
      }
    },
    {
      "cell_type":"markdown",
      "source":[
        "### Construa um box plot da variável RENDA segundo SEXO e COR\n",
        "#### <font color='blue'>É possível verificar algum comportamento diferenciado no rendimento entre os grupos de pessoas analisados? Avalie o gráfico e destaque os pontos mais importantes.<\/font>\n",
        "#### <font color='red'>1º - Utilize somente as informações de pessoas com renda abaixo de R$ 10.000<\/font>\n",
        "#### <font color='red'>2º - Para incluir uma terceira variável na construção de um boxplot utilize o parâmetro <i>hue<\/i> e indique a variável que quer incluir na subdivisão.<\/font>\n",
        "#### Mais informações: https:\/\/seaborn.pydata.org\/generated\/seaborn.boxplot.html"
      ],
      "metadata":{
        
      }
    },
    {
      "cell_type":"code",
      "source":[
        
      ],
      "execution_count":0,
      "outputs":[
        
      ],
      "metadata":{
        
      }
    },
    {
      "cell_type":"markdown",
      "source":[
        "> ### Conclusões\n",
        "\n",
        "Escreva suas conclusões aqui..."
      ],
      "metadata":{
        
      }
    },
    {
      "cell_type":"markdown",
      "source":[
        "# <font color=\"red\">DESAFIO<font>\n",
        "### Qual percentual de pessoas de nosso <i>dataset<\/i> ganham um salário mínimo (R$ 788,00) ou menos?\n",
        "#### <font color='red'>Utilize a função <i>percentileofscore()<\/i> do <i>scipy<\/i> para realizar estas análises.<\/font>\n",
        "#### Mais informações: https:\/\/docs.scipy.org\/doc\/scipy\/reference\/generated\/scipy.stats.percentileofscore.html"
      ],
      "metadata":{
        
      }
    },
    {
      "cell_type":"code",
      "source":[
        "from scipy import stats\n"
      ],
      "execution_count":0,
      "outputs":[
        
      ],
      "metadata":{
        
      }
    },
    {
      "cell_type":"markdown",
      "source":[
        "### Qual o valor máximo ganho por 99% das pessoas de nosso <i>dataset<\/i>?\n",
        "#### <font color='red'>Utilize o método <i>quantile()<\/i> do <i>pandas<\/i> para realizar estas análises.<\/font>"
      ],
      "metadata":{
        
      }
    },
    {
      "cell_type":"code",
      "source":[
        
      ],
      "execution_count":0,
      "outputs":[
        
      ],
      "metadata":{
        
      }
    },
    {
      "cell_type":"markdown",
      "source":[
        "### Obtenha a média, mediana, valor máximo e desvio-padrão da variável RENDA segundo ANOS DE ESTUDO e SEXO\n",
        "#### <font color='blue'>Destaque os pontos mais importante que você observa nas tabulações<\/font>\n",
        "#### <font color='red'>O parâmento <i>aggfunc<\/i> da função <i>crosstab()<\/i> pode receber uma lista de funções. Exemplo: <i>aggfunc = ['mean', 'median', 'max', 'std']<\/i><\/font>"
      ],
      "metadata":{
        
      }
    },
    {
      "cell_type":"code",
      "source":[
        
      ],
      "execution_count":0,
      "outputs":[
        
      ],
      "metadata":{
        
      }
    },
    {
      "cell_type":"markdown",
      "source":[
        "### Construa um box plot da variável RENDA segundo ANOS DE ESTUDO e SEXO\n",
        "#### <font color='blue'>É possível verificar algum comportamento diferenciado no rendimento entre os grupos de pessoas analisados? Avalie o gráfico e destaque os pontos mais importantes.<\/font>\n",
        "#### <font color='red'>1º - Utilize somente as informações de pessoas com renda abaixo de R$ 10.000<\/font>\n",
        "#### <font color='red'>2º - Utilize a variável IDADE para identificar se a desigualdade se verifica para pessoas de mesma idade. Exemplo: <i>data=dados.query('Renda < 10000 and Idade == 40')<\/i> ou <i>data=dados.query('Renda < 10000 and Idade == 50')<\/i><\/font>\n",
        "#### <font color='red'>3º - Para incluir uma terceira variável na construção de um boxplot utilize o parâmetro <i>hue<\/i> e indique a variável que quer incluir na subdivisão.<\/font>\n",
        "#### Mais informações: https:\/\/seaborn.pydata.org\/generated\/seaborn.boxplot.html"
      ],
      "metadata":{
        
      }
    },
    {
      "cell_type":"code",
      "source":[
        
      ],
      "execution_count":0,
      "outputs":[
        
      ],
      "metadata":{
        
      }
    },
    {
      "cell_type":"markdown",
      "source":[
        "> ### Conclusões\n",
        "\n",
        "Escreva suas conclusões aqui..."
      ],
      "metadata":{
        
      }
    },
    {
      "cell_type":"markdown",
      "source":[
        "### Obtenha a média, mediana, valor máximo e desvio-padrão da variável RENDA segundo as UNIDADES DA FEDERAÇÃO\n",
        "#### <font color='blue'>Destaque os pontos mais importante que você observa nas tabulações<\/font>\n",
        "#### <font color='red'>Utilize o método <i>groupby()<\/i> do <i>pandas<\/i> juntamente com o método <i>agg()<\/i> para contruir a tabulação. O método <i>agg()<\/i> pode receber um dicionário especificando qual coluna do DataFrame deve ser utilizada e qual lista de funções estatísticas queremos obter, por exemplo: <i>dados.groupby(['UF']).agg({'Renda': ['mean', 'median', 'max', 'std']})<\/i><\/font>"
      ],
      "metadata":{
        
      }
    },
    {
      "cell_type":"code",
      "source":[
        
      ],
      "execution_count":0,
      "outputs":[
        
      ],
      "metadata":{
        
      }
    },
    {
      "cell_type":"markdown",
      "source":[
        "### Construa um box plot da variável RENDA segundo as UNIDADES DA FEDERAÇÃO\n",
        "#### <font color='blue'>É possível verificar algum comportamento diferenciado no rendimento entre os grupos analisados? Avalie o gráfico e destaque os pontos mais importantes.<\/font>\n",
        "#### <font color='red'>1º - Utilize somente as informações de pessoas com renda abaixo de R$ 10.000<\/font>"
      ],
      "metadata":{
        
      }
    },
    {
      "cell_type":"code",
      "source":[
        
      ],
      "execution_count":0,
      "outputs":[
        
      ],
      "metadata":{
        
      }
    },
    {
      "cell_type":"markdown",
      "source":[
        "> ### Conclusões\n",
        "\n",
        "Escreva suas conclusões aqui..."
      ],
      "metadata":{
        
      }
    }
  ],
  "metadata":{
    
  },
  "nbformat":4,
  "nbformat_minor":0
}