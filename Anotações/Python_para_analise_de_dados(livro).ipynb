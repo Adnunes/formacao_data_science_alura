{
  "nbformat": 4,
  "nbformat_minor": 0,
  "metadata": {
    "colab": {
      "name": "Python para analise de dados(livro).ipynb",
      "provenance": [],
      "collapsed_sections": [],
      "toc_visible": true
    },
    "kernelspec": {
      "name": "python3",
      "display_name": "Python 3"
    },
    "language_info": {
      "name": "python"
    }
  },
  "cells": [
    {
      "cell_type": "markdown",
      "metadata": {
        "id": "-ADmiUGCYu5X"
      },
      "source": [
        "# 1 -  Basico sobre o NumPy: arrays e processamento vetorizado\n",
        "***"
      ]
    },
    {
      "cell_type": "code",
      "metadata": {
        "id": "1Fn_iNG-YffX"
      },
      "source": [
        "import numpy as np"
      ],
      "execution_count": null,
      "outputs": []
    },
    {
      "cell_type": "markdown",
      "metadata": {
        "id": "ifYs-e_fbSLG"
      },
      "source": [
        "* Internamente, o NumPy armazena em um bloco contiguo de memória, independentemente de outros pobjetos Python embutidos. A biblioteca do NumPy de algoritmos escritos na liguagem C é capaz de atuar nessa memória sem qualquer verficiação de tipo ou outro overhead. Os arrays NumPy também utilizam muito menos memória que as sequencias embutidas de Python\n",
        "\n",
        "* as operações do NumPy realizamo processamento complexos em arrays inteiros sem a necessidade de çaõs for de python"
      ]
    },
    {
      "cell_type": "code",
      "metadata": {
        "id": "7kxN_tT6cxqB"
      },
      "source": [
        "my_arr  = np.arange(1000000) #cria um array com um mulhao de inteiros \n",
        "my_list = list(range(1000000)) # cria uma lista equivalente em python"
      ],
      "execution_count": null,
      "outputs": []
    },
    {
      "cell_type": "code",
      "metadata": {
        "colab": {
          "base_uri": "https://localhost:8080/"
        },
        "id": "hXMNUDHhdaWw",
        "outputId": "43ac4922-4d1c-4e17-8dee-f44f6faa53e4"
      },
      "source": [
        "%time for _ in range(10): my_arry2 = my_arr *2  # calcula o tempo de execução de uma operacção dentro do array"
      ],
      "execution_count": null,
      "outputs": [
        {
          "output_type": "stream",
          "text": [
            "CPU times: user 46.2 ms, sys: 1.9 ms, total: 48.1 ms\n",
            "Wall time: 50.1 ms\n"
          ],
          "name": "stdout"
        }
      ]
    },
    {
      "cell_type": "code",
      "metadata": {
        "colab": {
          "base_uri": "https://localhost:8080/"
        },
        "id": "oSto6DJud2v1",
        "outputId": "cb71120c-6d99-4191-ba84-31b556588d4a"
      },
      "source": [
        "%time for _ in range(10): my_list2 = [x*2 for x in my_list] # calcula o tempo da operação em uma lista nos padrões python"
      ],
      "execution_count": null,
      "outputs": [
        {
          "output_type": "stream",
          "text": [
            "CPU times: user 901 ms, sys: 190 ms, total: 1.09 s\n",
            "Wall time: 1.11 s\n"
          ],
          "name": "stdout"
        }
      ]
    },
    {
      "cell_type": "markdown",
      "metadata": {
        "id": "s4SpncrKeNda"
      },
      "source": [
        "* Claramente os arrays se destacam também em termos de performance"
      ]
    },
    {
      "cell_type": "markdown",
      "metadata": {
        "id": "X0wttpIQeUYi"
      },
      "source": [
        "## 1.1 O ndarray do NumPY: um objeto array multidimensional\n"
      ]
    },
    {
      "cell_type": "markdown",
      "metadata": {
        "id": "guaqH-uqek2S"
      },
      "source": [
        "* Permite realizar operações matemáticas em blocos inteiros de daodos usando uma sintaxe semelhante às operações equivalentes entre elementos escalares"
      ]
    },
    {
      "cell_type": "code",
      "metadata": {
        "colab": {
          "base_uri": "https://localhost:8080/"
        },
        "id": "b_Xo8gWCe2GO",
        "outputId": "4c455dbf-1b93-4fca-a0b3-0b54a22084ce"
      },
      "source": [
        "data = np.random.randn(2,3)  # gera alguns dados aleattórios\n",
        "data"
      ],
      "execution_count": null,
      "outputs": [
        {
          "output_type": "execute_result",
          "data": {
            "text/plain": [
              "array([[-1.6138606 , -0.47439402, -0.01431733],\n",
              "       [ 0.17031614, -1.88413576, -0.29778911]])"
            ]
          },
          "metadata": {
            "tags": []
          },
          "execution_count": 89
        }
      ]
    },
    {
      "cell_type": "markdown",
      "metadata": {
        "id": "08Fut_GgfBla"
      },
      "source": [
        "operações matemáticas com *data*"
      ]
    },
    {
      "cell_type": "code",
      "metadata": {
        "colab": {
          "base_uri": "https://localhost:8080/"
        },
        "id": "WlRaJpuSfJlX",
        "outputId": "e6e4691f-65f4-47ed-a432-e3dac51fa1ed"
      },
      "source": [
        "data * 10"
      ],
      "execution_count": null,
      "outputs": [
        {
          "output_type": "execute_result",
          "data": {
            "text/plain": [
              "array([[-16.13860596,  -4.74394016,  -0.14317334],\n",
              "       [  1.70316145, -18.84135761,  -2.97789107]])"
            ]
          },
          "metadata": {
            "tags": []
          },
          "execution_count": 90
        }
      ]
    },
    {
      "cell_type": "code",
      "metadata": {
        "colab": {
          "base_uri": "https://localhost:8080/"
        },
        "id": "C_1229ZXfOZL",
        "outputId": "9b19df7f-3553-483e-825e-23654d2f58eb"
      },
      "source": [
        "data + data"
      ],
      "execution_count": null,
      "outputs": [
        {
          "output_type": "execute_result",
          "data": {
            "text/plain": [
              "array([[-3.22772119, -0.94878803, -0.02863467],\n",
              "       [ 0.34063229, -3.76827152, -0.59557821]])"
            ]
          },
          "metadata": {
            "tags": []
          },
          "execution_count": 91
        }
      ]
    },
    {
      "cell_type": "markdown",
      "metadata": {
        "id": "SbQa6mphfXmZ"
      },
      "source": [
        "* Um array é um conteiner genérico multidimensional para dados homogêneos **isso significa que todos os elementos devem ser do mesmo tipo**. "
      ]
    },
    {
      "cell_type": "code",
      "metadata": {
        "colab": {
          "base_uri": "https://localhost:8080/"
        },
        "id": "7UxqBYaMfobW",
        "outputId": "cf346064-75a3-457e-f7ea-c4b00948e61a"
      },
      "source": [
        "data.shape # o resultado do shappe é uma tupla que indica a dimensão do array"
      ],
      "execution_count": null,
      "outputs": [
        {
          "output_type": "execute_result",
          "data": {
            "text/plain": [
              "(2, 3)"
            ]
          },
          "metadata": {
            "tags": []
          },
          "execution_count": 92
        }
      ]
    },
    {
      "cell_type": "code",
      "metadata": {
        "colab": {
          "base_uri": "https://localhost:8080/"
        },
        "id": "nupG8zJWfzuG",
        "outputId": "b4c60fb5-0a8e-41fb-92a6-0a1a576264ad"
      },
      "source": [
        "data.dtype   # descreve o tipo de dado que contem no array"
      ],
      "execution_count": null,
      "outputs": [
        {
          "output_type": "execute_result",
          "data": {
            "text/plain": [
              "dtype('float64')"
            ]
          },
          "metadata": {
            "tags": []
          },
          "execution_count": 93
        }
      ]
    },
    {
      "cell_type": "markdown",
      "metadata": {
        "id": "CLu3kf1uf9BB"
      },
      "source": [
        "### 1.1.1 - Criando ndarrys"
      ]
    },
    {
      "cell_type": "markdown",
      "metadata": {
        "id": "Jpf9pfXjgXeG"
      },
      "source": [
        "* função *array* cria um array\n",
        "* aceita qualquer tipo de sequência\n"
      ]
    },
    {
      "cell_type": "code",
      "metadata": {
        "id": "iz_l2moEgtQa"
      },
      "source": [
        "data1 = [6, 7.5, 8, 0, 1]"
      ],
      "execution_count": null,
      "outputs": []
    },
    {
      "cell_type": "code",
      "metadata": {
        "colab": {
          "base_uri": "https://localhost:8080/"
        },
        "id": "Zl1ptU9Ig5Oa",
        "outputId": "4152efe9-02d2-415d-daf0-48e62846f694"
      },
      "source": [
        "arr1 = np.array(data1)\n",
        "arr1"
      ],
      "execution_count": null,
      "outputs": [
        {
          "output_type": "execute_result",
          "data": {
            "text/plain": [
              "array([6. , 7.5, 8. , 0. , 1. ])"
            ]
          },
          "metadata": {
            "tags": []
          },
          "execution_count": 95
        }
      ]
    },
    {
      "cell_type": "markdown",
      "metadata": {
        "id": "S3k1QnxGhErV"
      },
      "source": [
        "* sequencias aninhadas, como um lista de listas de mesmo tamanho, serão convertidas em um array multidimensional:"
      ]
    },
    {
      "cell_type": "code",
      "metadata": {
        "colab": {
          "base_uri": "https://localhost:8080/"
        },
        "id": "ymxrkTpLhOnv",
        "outputId": "8f8d97f2-92ed-479d-f8c1-9d448f84ffa6"
      },
      "source": [
        "data2 = [[1,2,3,4],[5,6,7,8]]\n",
        "arr2 =np.array(data2)\n",
        "arr2"
      ],
      "execution_count": null,
      "outputs": [
        {
          "output_type": "execute_result",
          "data": {
            "text/plain": [
              "array([[1, 2, 3, 4],\n",
              "       [5, 6, 7, 8]])"
            ]
          },
          "metadata": {
            "tags": []
          },
          "execution_count": 96
        }
      ]
    },
    {
      "cell_type": "code",
      "metadata": {
        "colab": {
          "base_uri": "https://localhost:8080/"
        },
        "id": "HtqbcnvxiIee",
        "outputId": "70816fd6-a5b3-45af-888f-4fb1cbba5745"
      },
      "source": [
        "arr2.shape"
      ],
      "execution_count": null,
      "outputs": [
        {
          "output_type": "execute_result",
          "data": {
            "text/plain": [
              "(2, 4)"
            ]
          },
          "metadata": {
            "tags": []
          },
          "execution_count": 97
        }
      ]
    },
    {
      "cell_type": "markdown",
      "metadata": {
        "id": "uwyeDvyKiUnG"
      },
      "source": [
        "* A menos que esteja explicitamente especificado, np.array tentará inferir um bom tipo de dados para o arrray que ele criar"
      ]
    },
    {
      "cell_type": "code",
      "metadata": {
        "colab": {
          "base_uri": "https://localhost:8080/"
        },
        "id": "Z3LotJ2dixga",
        "outputId": "1459c810-6aad-41d5-a3d6-f3c030b46d6d"
      },
      "source": [
        "arr1.dtype"
      ],
      "execution_count": null,
      "outputs": [
        {
          "output_type": "execute_result",
          "data": {
            "text/plain": [
              "dtype('float64')"
            ]
          },
          "metadata": {
            "tags": []
          },
          "execution_count": 98
        }
      ]
    },
    {
      "cell_type": "code",
      "metadata": {
        "colab": {
          "base_uri": "https://localhost:8080/"
        },
        "id": "PrthX8Pmi58T",
        "outputId": "869be62b-73d2-4c45-8b3d-ccd46b2ba277"
      },
      "source": [
        "arr2.dtype"
      ],
      "execution_count": null,
      "outputs": [
        {
          "output_type": "execute_result",
          "data": {
            "text/plain": [
              "dtype('int64')"
            ]
          },
          "metadata": {
            "tags": []
          },
          "execution_count": 99
        }
      ]
    },
    {
      "cell_type": "markdown",
      "metadata": {
        "id": "iRANONLhi8Tv"
      },
      "source": [
        "* Há uma serie de outras funções para criar novos arrays. Como exemplos, zeros e ones:"
      ]
    },
    {
      "cell_type": "code",
      "metadata": {
        "colab": {
          "base_uri": "https://localhost:8080/"
        },
        "id": "L1NQp5jYjOS7",
        "outputId": "7e60da98-010a-4704-ea13-354cc93c1cce"
      },
      "source": [
        "np.zeros(10)"
      ],
      "execution_count": null,
      "outputs": [
        {
          "output_type": "execute_result",
          "data": {
            "text/plain": [
              "array([0., 0., 0., 0., 0., 0., 0., 0., 0., 0.])"
            ]
          },
          "metadata": {
            "tags": []
          },
          "execution_count": 100
        }
      ]
    },
    {
      "cell_type": "code",
      "metadata": {
        "colab": {
          "base_uri": "https://localhost:8080/"
        },
        "id": "bYtJ9GMDjS7N",
        "outputId": "66c1cdb1-58b9-4131-a4a9-1e817a2b8c7f"
      },
      "source": [
        "np.zeros((3,6))"
      ],
      "execution_count": null,
      "outputs": [
        {
          "output_type": "execute_result",
          "data": {
            "text/plain": [
              "array([[0., 0., 0., 0., 0., 0.],\n",
              "       [0., 0., 0., 0., 0., 0.],\n",
              "       [0., 0., 0., 0., 0., 0.]])"
            ]
          },
          "metadata": {
            "tags": []
          },
          "execution_count": 101
        }
      ]
    },
    {
      "cell_type": "code",
      "metadata": {
        "colab": {
          "base_uri": "https://localhost:8080/"
        },
        "id": "yWpDyT9Cjccq",
        "outputId": "c8cd7430-f178-46a3-c7ab-d1481032eb56"
      },
      "source": [
        "np.empty((2,3,2))"
      ],
      "execution_count": null,
      "outputs": [
        {
          "output_type": "execute_result",
          "data": {
            "text/plain": [
              "array([[[4.66684392e-310, 2.32210854e-322],\n",
              "        [0.00000000e+000, 0.00000000e+000],\n",
              "        [6.94062383e-310, 1.16095484e-028]],\n",
              "\n",
              "       [[1.96086548e+243, 1.28315544e+272],\n",
              "        [2.91237123e+257, 4.71294503e+257],\n",
              "        [1.33890737e+253, 1.46030983e-319]]])"
            ]
          },
          "metadata": {
            "tags": []
          },
          "execution_count": 102
        }
      ]
    },
    {
      "cell_type": "markdown",
      "metadata": {
        "id": "r9lFwibxjpgh"
      },
      "source": [
        "* arange é uma versão da função embutida range de python com valor de array:"
      ]
    },
    {
      "cell_type": "code",
      "metadata": {
        "colab": {
          "base_uri": "https://localhost:8080/"
        },
        "id": "kzdNUB9Ijv8a",
        "outputId": "2a4352fc-cbae-4df7-c488-62d1ae336ac0"
      },
      "source": [
        "np.arange(15)"
      ],
      "execution_count": null,
      "outputs": [
        {
          "output_type": "execute_result",
          "data": {
            "text/plain": [
              "array([ 0,  1,  2,  3,  4,  5,  6,  7,  8,  9, 10, 11, 12, 13, 14])"
            ]
          },
          "metadata": {
            "tags": []
          },
          "execution_count": 103
        }
      ]
    },
    {
      "cell_type": "markdown",
      "metadata": {
        "id": "oqt8bTcPjzu6"
      },
      "source": [
        "### 1.1.2 Tipos de dados para ndarrays"
      ]
    },
    {
      "cell_type": "code",
      "metadata": {
        "id": "1mbIDOXMkFwC"
      },
      "source": [
        "arr1 = np.array([1,2,3], dtype=np.float64)"
      ],
      "execution_count": null,
      "outputs": []
    },
    {
      "cell_type": "code",
      "metadata": {
        "id": "dF51jWVNkeBa"
      },
      "source": [
        "arr2 = np.array([1,2,3], dtype= np.int32)"
      ],
      "execution_count": null,
      "outputs": []
    },
    {
      "cell_type": "code",
      "metadata": {
        "colab": {
          "base_uri": "https://localhost:8080/"
        },
        "id": "NehbsejukmQa",
        "outputId": "cc0ea94b-888c-4463-b9b9-6e8107059b2e"
      },
      "source": [
        "arr1.dtype"
      ],
      "execution_count": null,
      "outputs": [
        {
          "output_type": "execute_result",
          "data": {
            "text/plain": [
              "dtype('float64')"
            ]
          },
          "metadata": {
            "tags": []
          },
          "execution_count": 106
        }
      ]
    },
    {
      "cell_type": "code",
      "metadata": {
        "colab": {
          "base_uri": "https://localhost:8080/"
        },
        "id": "JuL5xqejkpAC",
        "outputId": "4d0007c3-147f-4187-80eb-3d9f65003aaa"
      },
      "source": [
        "arr2.dtype"
      ],
      "execution_count": null,
      "outputs": [
        {
          "output_type": "execute_result",
          "data": {
            "text/plain": [
              "dtype('int32')"
            ]
          },
          "metadata": {
            "tags": []
          },
          "execution_count": 107
        }
      ]
    },
    {
      "cell_type": "markdown",
      "metadata": {
        "id": "wHLtTbJhkrTq"
      },
      "source": [
        "*  é possivel converter explicitamente ou fazer *cast* de um array de um dtype para oytro usando o metodo *astype*"
      ]
    },
    {
      "cell_type": "code",
      "metadata": {
        "colab": {
          "base_uri": "https://localhost:8080/"
        },
        "id": "onq6QifQllnK",
        "outputId": "587ab593-a60b-4261-8c2d-c56fe11aa063"
      },
      "source": [
        "arr = np.array([1,2,3,4,5])\n",
        "arr.dtype"
      ],
      "execution_count": null,
      "outputs": [
        {
          "output_type": "execute_result",
          "data": {
            "text/plain": [
              "dtype('int64')"
            ]
          },
          "metadata": {
            "tags": []
          },
          "execution_count": 108
        }
      ]
    },
    {
      "cell_type": "code",
      "metadata": {
        "colab": {
          "base_uri": "https://localhost:8080/"
        },
        "id": "zXFaYSZXlsFb",
        "outputId": "517580d4-8be3-4c03-9209-2cb509d70f60"
      },
      "source": [
        "float_arr = arr.astype(np.float64)\n",
        "float_arr"
      ],
      "execution_count": null,
      "outputs": [
        {
          "output_type": "execute_result",
          "data": {
            "text/plain": [
              "array([1., 2., 3., 4., 5.])"
            ]
          },
          "metadata": {
            "tags": []
          },
          "execution_count": 109
        }
      ]
    },
    {
      "cell_type": "markdown",
      "metadata": {
        "id": "pV3mjR98lwja"
      },
      "source": [
        "* oa tributo dtype de outro array também pode ser utilziado"
      ]
    },
    {
      "cell_type": "code",
      "metadata": {
        "id": "KZ8NdyXPmkJq"
      },
      "source": [
        "int_array =  np.arange(10)"
      ],
      "execution_count": null,
      "outputs": []
    },
    {
      "cell_type": "code",
      "metadata": {
        "id": "3gKaa5z3mrhr"
      },
      "source": [
        "\n",
        "calibers = np.array([.22,.270,.357,.380,.44,.50], dtype=np.float64)"
      ],
      "execution_count": null,
      "outputs": []
    },
    {
      "cell_type": "code",
      "metadata": {
        "colab": {
          "base_uri": "https://localhost:8080/"
        },
        "id": "ynV4JCtfm4_i",
        "outputId": "452dcaca-39cb-4153-e960-2e87aa1d2ce0"
      },
      "source": [
        "int_array.astype(calibers.dtype)"
      ],
      "execution_count": null,
      "outputs": [
        {
          "output_type": "execute_result",
          "data": {
            "text/plain": [
              "array([0., 1., 2., 3., 4., 5., 6., 7., 8., 9.])"
            ]
          },
          "metadata": {
            "tags": []
          },
          "execution_count": 112
        }
      ]
    },
    {
      "cell_type": "markdown",
      "metadata": {
        "id": "hXuki8IbnfeI"
      },
      "source": [
        "### 1.1.3 Aritmética com array NumPy"
      ]
    },
    {
      "cell_type": "markdown",
      "metadata": {
        "id": "bhsjHsrAoHxj"
      },
      "source": [
        "* Os arrays sao impostantes porque permitem expressar operações em lote nos dados sem escrever qualquer laço for (vetorização)"
      ]
    },
    {
      "cell_type": "code",
      "metadata": {
        "colab": {
          "base_uri": "https://localhost:8080/"
        },
        "id": "0VT3hFWioS9I",
        "outputId": "6bb669c5-83a6-4d06-8c1e-74df79d472b2"
      },
      "source": [
        "arr = np.array([[1.,2.,3.],[4.,5.,6.]])\n",
        "arr"
      ],
      "execution_count": null,
      "outputs": [
        {
          "output_type": "execute_result",
          "data": {
            "text/plain": [
              "array([[1., 2., 3.],\n",
              "       [4., 5., 6.]])"
            ]
          },
          "metadata": {
            "tags": []
          },
          "execution_count": 113
        }
      ]
    },
    {
      "cell_type": "code",
      "metadata": {
        "colab": {
          "base_uri": "https://localhost:8080/"
        },
        "id": "swtH-rE-ntSr",
        "outputId": "ecfe003d-ed4d-4ad0-9078-ee1a591479af"
      },
      "source": [
        "arr * arr"
      ],
      "execution_count": null,
      "outputs": [
        {
          "output_type": "execute_result",
          "data": {
            "text/plain": [
              "array([[ 1.,  4.,  9.],\n",
              "       [16., 25., 36.]])"
            ]
          },
          "metadata": {
            "tags": []
          },
          "execution_count": 114
        }
      ]
    },
    {
      "cell_type": "code",
      "metadata": {
        "colab": {
          "base_uri": "https://localhost:8080/"
        },
        "id": "IgH79F7Qonjy",
        "outputId": "d073de50-f3e6-4c40-c719-e98f1e6a6d71"
      },
      "source": [
        "arr - arr "
      ],
      "execution_count": null,
      "outputs": [
        {
          "output_type": "execute_result",
          "data": {
            "text/plain": [
              "array([[0., 0., 0.],\n",
              "       [0., 0., 0.]])"
            ]
          },
          "metadata": {
            "tags": []
          },
          "execution_count": 115
        }
      ]
    },
    {
      "cell_type": "code",
      "metadata": {
        "id": "Cw7UVQE6pZCW"
      },
      "source": [
        ""
      ],
      "execution_count": null,
      "outputs": []
    },
    {
      "cell_type": "markdown",
      "metadata": {
        "id": "8hcJ_Qc1op6z"
      },
      "source": [
        "* as operações aritméticas escarales fazem o argument escar ser propagado a cada elemento do array"
      ]
    },
    {
      "cell_type": "code",
      "metadata": {
        "colab": {
          "base_uri": "https://localhost:8080/"
        },
        "id": "YOqZjpnipjpz",
        "outputId": "ad01248a-7b9e-42f5-b147-00fc5854a609"
      },
      "source": [
        "1/arr"
      ],
      "execution_count": null,
      "outputs": [
        {
          "output_type": "execute_result",
          "data": {
            "text/plain": [
              "array([[1.        , 0.5       , 0.33333333],\n",
              "       [0.25      , 0.2       , 0.16666667]])"
            ]
          },
          "metadata": {
            "tags": []
          },
          "execution_count": 116
        }
      ]
    },
    {
      "cell_type": "code",
      "metadata": {
        "colab": {
          "base_uri": "https://localhost:8080/"
        },
        "id": "QQP1mXQkprim",
        "outputId": "9f5915aa-79ad-430b-ebab-ebfbc1f0c552"
      },
      "source": [
        "arr **2"
      ],
      "execution_count": null,
      "outputs": [
        {
          "output_type": "execute_result",
          "data": {
            "text/plain": [
              "array([[ 1.,  4.,  9.],\n",
              "       [16., 25., 36.]])"
            ]
          },
          "metadata": {
            "tags": []
          },
          "execution_count": 117
        }
      ]
    },
    {
      "cell_type": "markdown",
      "metadata": {
        "id": "5O1tO6GCpuxz"
      },
      "source": [
        "* as comparações entre arrays de mesmo tamanho resultam em arrays booleanos "
      ]
    },
    {
      "cell_type": "code",
      "metadata": {
        "colab": {
          "base_uri": "https://localhost:8080/"
        },
        "id": "SDRdujEDqGri",
        "outputId": "6949e4eb-dc55-4cab-df54-8dc6ac505263"
      },
      "source": [
        "arr2 = np.array([[0.,4.,1.],[7.,2.,12.]])\n",
        "arr2"
      ],
      "execution_count": null,
      "outputs": [
        {
          "output_type": "execute_result",
          "data": {
            "text/plain": [
              "array([[ 0.,  4.,  1.],\n",
              "       [ 7.,  2., 12.]])"
            ]
          },
          "metadata": {
            "tags": []
          },
          "execution_count": 118
        }
      ]
    },
    {
      "cell_type": "code",
      "metadata": {
        "colab": {
          "base_uri": "https://localhost:8080/"
        },
        "id": "ZTCQtyZmqQF9",
        "outputId": "4a97ff80-cd5c-454d-94e3-788128ec051a"
      },
      "source": [
        "arr2>arr"
      ],
      "execution_count": null,
      "outputs": [
        {
          "output_type": "execute_result",
          "data": {
            "text/plain": [
              "array([[False,  True, False],\n",
              "       [ True, False,  True]])"
            ]
          },
          "metadata": {
            "tags": []
          },
          "execution_count": 119
        }
      ]
    },
    {
      "cell_type": "markdown",
      "metadata": {
        "id": "dxN4spgls2dX"
      },
      "source": [
        "### 1.1.4 Indexação básica e fatiamento\n",
        "Arrays unidimensionais são simples; superficialmente, eles se comportam de moto semelhante às listas de Python"
      ]
    },
    {
      "cell_type": "code",
      "metadata": {
        "colab": {
          "base_uri": "https://localhost:8080/"
        },
        "id": "3c3tr3m2tpgm",
        "outputId": "95a117ab-ad01-4539-b03d-0dc9908f64b7"
      },
      "source": [
        "arr = np.arange(10)\n",
        "arr"
      ],
      "execution_count": null,
      "outputs": [
        {
          "output_type": "execute_result",
          "data": {
            "text/plain": [
              "array([0, 1, 2, 3, 4, 5, 6, 7, 8, 9])"
            ]
          },
          "metadata": {
            "tags": []
          },
          "execution_count": 120
        }
      ]
    },
    {
      "cell_type": "code",
      "metadata": {
        "colab": {
          "base_uri": "https://localhost:8080/"
        },
        "id": "Su_6LiYhtuUS",
        "outputId": "c9f5484f-3d0b-487f-cc4f-a0fbb4b2e125"
      },
      "source": [
        "arr[5]"
      ],
      "execution_count": null,
      "outputs": [
        {
          "output_type": "execute_result",
          "data": {
            "text/plain": [
              "5"
            ]
          },
          "metadata": {
            "tags": []
          },
          "execution_count": 121
        }
      ]
    },
    {
      "cell_type": "code",
      "metadata": {
        "colab": {
          "base_uri": "https://localhost:8080/"
        },
        "id": "fEbAI1lWtw1K",
        "outputId": "06f982f2-1c54-4591-9228-54289f196647"
      },
      "source": [
        "arr[5:8]"
      ],
      "execution_count": null,
      "outputs": [
        {
          "output_type": "execute_result",
          "data": {
            "text/plain": [
              "array([5, 6, 7])"
            ]
          },
          "metadata": {
            "tags": []
          },
          "execution_count": 122
        }
      ]
    },
    {
      "cell_type": "markdown",
      "metadata": {
        "id": "eNnlccNUugZv"
      },
      "source": [
        "* ao atribuir um valor a uma fatia do array, é possivel notar que todos os valores dessa fatia é substituido pelo valor atribuido"
      ]
    },
    {
      "cell_type": "code",
      "metadata": {
        "colab": {
          "base_uri": "https://localhost:8080/"
        },
        "id": "nJnLup0xt0gG",
        "outputId": "78335dd7-f6d5-4735-88b5-ea1417ad765a"
      },
      "source": [
        "arr[5:8]=12\n",
        "arr"
      ],
      "execution_count": null,
      "outputs": [
        {
          "output_type": "execute_result",
          "data": {
            "text/plain": [
              "array([ 0,  1,  2,  3,  4, 12, 12, 12,  8,  9])"
            ]
          },
          "metadata": {
            "tags": []
          },
          "execution_count": 123
        }
      ]
    },
    {
      "cell_type": "markdown",
      "metadata": {
        "id": "vQu0UlWruy7E"
      },
      "source": [
        "* agora, quando altero valores em arr_slice, as mudanças se refletem no array arr original:"
      ]
    },
    {
      "cell_type": "code",
      "metadata": {
        "colab": {
          "base_uri": "https://localhost:8080/"
        },
        "id": "VT3doKquvCwa",
        "outputId": "fe67066f-d231-499d-ea77-d16fcc3ee9a3"
      },
      "source": [
        "arr_slice = arr[5:8]\n",
        "arr_slice"
      ],
      "execution_count": null,
      "outputs": [
        {
          "output_type": "execute_result",
          "data": {
            "text/plain": [
              "array([12, 12, 12])"
            ]
          },
          "metadata": {
            "tags": []
          },
          "execution_count": 124
        }
      ]
    },
    {
      "cell_type": "code",
      "metadata": {
        "colab": {
          "base_uri": "https://localhost:8080/"
        },
        "id": "35RPp3rPvJiy",
        "outputId": "e42b8c41-4d82-4836-b084-3c679fb5ad5f"
      },
      "source": [
        "arr_slice[1] = 12345\n",
        "arr"
      ],
      "execution_count": null,
      "outputs": [
        {
          "output_type": "execute_result",
          "data": {
            "text/plain": [
              "array([    0,     1,     2,     3,     4,    12, 12345,    12,     8,\n",
              "           9])"
            ]
          },
          "metadata": {
            "tags": []
          },
          "execution_count": 125
        }
      ]
    },
    {
      "cell_type": "code",
      "metadata": {
        "colab": {
          "base_uri": "https://localhost:8080/"
        },
        "id": "om3xALIhvgvO",
        "outputId": "a51445d6-70cf-4f1e-d0fb-09e61b64688d"
      },
      "source": [
        "arr_slice[:] = 64\n",
        "arr"
      ],
      "execution_count": null,
      "outputs": [
        {
          "output_type": "execute_result",
          "data": {
            "text/plain": [
              "array([ 0,  1,  2,  3,  4, 64, 64, 64,  8,  9])"
            ]
          },
          "metadata": {
            "tags": []
          },
          "execution_count": 126
        }
      ]
    },
    {
      "cell_type": "markdown",
      "metadata": {
        "id": "kkOxLwLVvxU6"
      },
      "source": [
        "* para uma copia de um array, ou uma fatia dele, deve-se usar o comando copy, informando o explicitamente que o objetivo é obter uma copia.  Isso é uma forma de o numpy otimizar os fatiamentos dos arrays, pois dessa forma evita que a geração 'automatica' de uma copia comprometa a memoria"
      ]
    },
    {
      "cell_type": "code",
      "metadata": {
        "id": "kPBF1uZTwZ5T"
      },
      "source": [
        "arr_copy = arr[5:8].copy()"
      ],
      "execution_count": null,
      "outputs": []
    },
    {
      "cell_type": "code",
      "metadata": {
        "colab": {
          "base_uri": "https://localhost:8080/"
        },
        "id": "CsPZn2-CwrPf",
        "outputId": "4b1e1cc2-4b34-413e-c6b7-b62cb0c60921"
      },
      "source": [
        "arr_copy"
      ],
      "execution_count": null,
      "outputs": [
        {
          "output_type": "execute_result",
          "data": {
            "text/plain": [
              "array([64, 64, 64])"
            ]
          },
          "metadata": {
            "tags": []
          },
          "execution_count": 128
        }
      ]
    },
    {
      "cell_type": "code",
      "metadata": {
        "colab": {
          "base_uri": "https://localhost:8080/"
        },
        "id": "L78cj778wuPt",
        "outputId": "a49d4789-4d3e-4dad-b59b-503805ca7f1e"
      },
      "source": [
        "arr_copy = 12\n",
        "arr_copy"
      ],
      "execution_count": null,
      "outputs": [
        {
          "output_type": "execute_result",
          "data": {
            "text/plain": [
              "12"
            ]
          },
          "metadata": {
            "tags": []
          },
          "execution_count": 129
        }
      ]
    },
    {
      "cell_type": "code",
      "metadata": {
        "colab": {
          "base_uri": "https://localhost:8080/"
        },
        "id": "G1-sKVDHwyGH",
        "outputId": "451e3cf0-6cf9-4910-aade-170b6851ab57"
      },
      "source": [
        "arr"
      ],
      "execution_count": null,
      "outputs": [
        {
          "output_type": "execute_result",
          "data": {
            "text/plain": [
              "array([ 0,  1,  2,  3,  4, 64, 64, 64,  8,  9])"
            ]
          },
          "metadata": {
            "tags": []
          },
          "execution_count": 130
        }
      ]
    },
    {
      "cell_type": "markdown",
      "metadata": {
        "id": "0W2PnK3_w20N"
      },
      "source": [
        "* Com arrays de dimensões maiores temos muito mais opções. Com arrays bidimensonais, os elementos em cada índice não são mais escalares, mas são arrays unidimensionais:"
      ]
    },
    {
      "cell_type": "code",
      "metadata": {
        "colab": {
          "base_uri": "https://localhost:8080/"
        },
        "id": "3uHLSiaW6uVj",
        "outputId": "5805ebf7-5e4e-4acc-8ccb-3c4135bff508"
      },
      "source": [
        "arr2d = np.array([[1,2,3],[4,5,6],[7,8,9]])\n",
        "arr2d"
      ],
      "execution_count": null,
      "outputs": [
        {
          "output_type": "execute_result",
          "data": {
            "text/plain": [
              "array([[1, 2, 3],\n",
              "       [4, 5, 6],\n",
              "       [7, 8, 9]])"
            ]
          },
          "metadata": {
            "tags": []
          },
          "execution_count": 131
        }
      ]
    },
    {
      "cell_type": "markdown",
      "metadata": {
        "id": "30n-yZdX6782"
      },
      "source": [
        "* desse modo, os elementos individuáis podem ser acessados recursivamenteo. entretanto, isso exige um pouco de trabalho, portanto podemos passar uma lista de índices separados por vírgula para selecionar elementos individuais, assim, as instruções a seguir são equivalentes:\n"
      ]
    },
    {
      "cell_type": "code",
      "metadata": {
        "colab": {
          "base_uri": "https://localhost:8080/"
        },
        "id": "HGHa5vyY7Qjh",
        "outputId": "f2e250cd-6f79-4785-a8a1-ecc1df69c2ad"
      },
      "source": [
        "arr2d[0][2]"
      ],
      "execution_count": null,
      "outputs": [
        {
          "output_type": "execute_result",
          "data": {
            "text/plain": [
              "3"
            ]
          },
          "metadata": {
            "tags": []
          },
          "execution_count": 132
        }
      ]
    },
    {
      "cell_type": "code",
      "metadata": {
        "colab": {
          "base_uri": "https://localhost:8080/"
        },
        "id": "tFigy9dw7UCK",
        "outputId": "5aaf1c3f-9a5f-4706-a98b-18c6610bf7a7"
      },
      "source": [
        "arr2d[1][:]"
      ],
      "execution_count": null,
      "outputs": [
        {
          "output_type": "execute_result",
          "data": {
            "text/plain": [
              "array([4, 5, 6])"
            ]
          },
          "metadata": {
            "tags": []
          },
          "execution_count": 133
        }
      ]
    },
    {
      "cell_type": "markdown",
      "metadata": {
        "id": "2mp9nw8r8Nn9"
      },
      "source": [
        "* Pensar no eixo 0 como 'linhas' e eixo 1 como 'colunas'"
      ]
    },
    {
      "cell_type": "markdown",
      "metadata": {
        "id": "KNu0fqzu70pT"
      },
      "source": [
        "![arraybidi.JPG](data:image/jpeg;base64,/9j/4AAQSkZJRgABAQEAYABgAAD/4RD+RXhpZgAATU0AKgAAAAgABAE7AAIAAAASAAAISodpAAQAAAABAAAIXJydAAEAAAAiAAAQ1OocAAcAAAgMAAAAPgAAAAAc6gAAAAgAAAAAAAAAAAAAAAAAAAAAAAAAAAAAAAAAAAAAAAAAAAAAAAAAAAAAAAAAAAAAAAAAAAAAAAAAAAAAAAAAAAAAAAAAAAAAAAAAAAAAAAAAAAAAAAAAAAAAAAAAAAAAAAAAAAAAAAAAAAAAAAAAAAAAAAAAAAAAAAAAAAAAAAAAAAAAAAAAAAAAAAAAAAAAAAAAAAAAAAAAAAAAAAAAAAAAAAAAAAAAAAAAAAAAAAAAAAAAAAAAAAAAAAAAAAAAAAAAAAAAAAAAAAAAAAAAAAAAAAAAAAAAAAAAAAAAAAAAAAAAAAAAAAAAAAAAAAAAAAAAAAAAAAAAAAAAAAAAAAAAAAAAAAAAAAAAAAAAAAAAAAAAAAAAAAAAAAAAAAAAAAAAAAAAAAAAAAAAAAAAAAAAAAAAAAAAAAAAAAAAAAAAAAAAAAAAAAAAAAAAAAAAAAAAAAAAAAAAAAAAAAAAAAAAAAAAAAAAAAAAAAAAAAAAAAAAAAAAAAAAAAAAAAAAAAAAAAAAAAAAAAAAAAAAAAAAAAAAAAAAAAAAAAAAAAAAAAAAAAAAAAAAAAAAAAAAAAAAAAAAAAAAAAAAAAAAAAAAAAAAAAAAAAAAAAAAAAAAAAAAAAAAAAAAAAAAAAAAAAAAAAAAAAAAAAAAAAAAAAAAAAAAAAAAAAAAAAAAAAAAAAAAAAAAAAAAAAAAAAAAAAAAAAAAAAAAAAAAAAAAAAAAAAAAAAAAAAAAAAAAAAAAAAAAAAAAAAAAAAAAAAAAAAAAAAAAAAAAAAAAAAAAAAAAAAAAAAAAAAAAAAAAAAAAAAAAAAAAAAAAAAAAAAAAAAAAAAAAAAAAAAAAAAAAAAAAAAAAAAAAAAAAAAAAAAAAAAAAAAAAAAAAAAAAAAAAAAAAAAAAAAAAAAAAAAAAAAAAAAAAAAAAAAAAAAAAAAAAAAAAAAAAAAAAAAAAAAAAAAAAAAAAAAAAAAAAAAAAAAAAAAAAAAAAAAAAAAAAAAAAAAAAAAAAAAAAAAAAAAAAAAAAAAAAAAAAAAAAAAAAAAAAAAAAAAAAAAAAAAAAAAAAAAAAAAAAAAAAAAAAAAAAAAAAAAAAAAAAAAAAAAAAAAAAAAAAAAAAAAAAAAAAAAAAAAAAAAAAAAAAAAAAAAAAAAAAAAAAAAAAAAAAAAAAAAAAAAAAAAAAAAAAAAAAAAAAAAAAAAAAAAAAAAAAAAAAAAAAAAAAAAAAAAAAAAAAAAAAAAAAAAAAAAAAAAAAAAAAAAAAAAAAAAAAAAAAAAAAAAAAAAAAAAAAAAAAAAAAAAAAAAAAAAAAAAAAAAAAAAAAAAAAAAAAAAAAAAAAAAAAAAAAAAAAAAAAAAAAAAAAAAAAAAAAAAAAAAAAAAAAAAAAAAAAAAAAAAAAAAAAAAAAAAAAAAAAAAAAAAAAAAAAAAAAAAAAAAAAAAAAAAAAAAAAAAAAAAAAAAAAAAAAAAAAAAAAAAAAAAAAAAAAAAAAAAAAAAAAAAAAAAAAAAAAAAAAAAAAAAAAAAAAAAAAAAAAAAAAAAAAAAAAAAAAAAAAAAAAAAAAAAAAAAAAAAAAAAAAAAAAAAAAAAAAAAAAAAAAAAAAAAAAAAAAAAAAAAAAAAAAAAAAAAAAAAAAAAAAAAAAAAAAAAAAAAAAAAAAAAAAAAAAAAAAAAAAAAAAAAAAAAAAAAAAAAAAAAAAAAAAAAAAAAAAAAAAAAAAAAAAAAAAAAAAAAAAAAAAAAAAAAAAAAAAAAAAAAAAAAAAAAAAAAAAAAAAAAAAAAAAAAAAAAAAAAAAAAAAAAAAAAAAAAAAAAAAAAAAAAAAAAAAAAAAAAAAAAAAAAAAAAAAAAAAAAAAAAAAAAAAAAAAAAAAAAAAAAAAAAAAAAAAAAAAAAAAAAAAAAAAAAAAAAAAAAAAAAAAAAAAAAAAAAAAAAAAAAAAAAAAAAAAAAAAAAAAAAAAAAAAAAAAAAAAAAAAAAAAAAAAAAAAAAAAAAAAAAAAAAAAAAAAAAAAAAAAAAAAAAAAAAAAAAAAAAAAAAAAAAAAAAAAAAAAAAAAAAAAAAAAAAAAAAAAAAAAAAAAAAAAAAAAAAAAAAAAAAAAAAAAAAAAAAAAAAAAAAAAAAAAAAAAAAAAAAAAAAAAAAAAAAAAAAAAAAAAAAAAAAAAAAAAAAAAAAAAAAAAAAAAAAAAAAAAAAAAAAAAAAAAAAAAAAAAAAAAAAAAAAAAAAAAAAAAAAAAAAAAAAAAAAAAAAAAAAAAAAAAAAAAAAAAAAAAAAAAAAAAAAAAAAAAAAAAAAAAAAAAAAAAAAAAAAAAAAAAAAAAAAAAAAAAAAAAAAAAAAAAAAAAAAAAAAAAAAAAAAAAAAAAAAAAAAAAAAAAAAAAAAAAAAAAAAAAAAAAAAAAAAAAAAAAAAAAAAAAAAAAAAAAAAAAAAAAAAAAAAAAAAAAAAAAAAAAAAAAAAAAAAAAAAAAAAAAAAAAAAAAAAAAAAAAAAAAAAAAAAAAAAAAAAAAAAAAAAAAAAAAAAAAAAAAAAAAAAAAAAAAAAAAAAAAAAAAAAAAAAAAAAAAAAAAAAAAAAAAAAAAAAAAAAAAAAAAAAAAAAAAAAAAAAAAAAAAAAAAAAAAAAAAAAAAAAAAAAAAAAAAAAAAAAAAAAAAAAAAAAAAAAAAAAAAAAAAAAAAAAAAAAAAAAAAAAAAAAAAAAAAAAAAAAAAAAAAAAAAAAAAAAAAAAAAAAAAAAAAAAAAAEFuZHLDqSBEaWFzIE51bmVzAAAFkAMAAgAAABQAABCqkAQAAgAAABQAABC+kpEAAgAAAAMxMAAAkpIAAgAAAAMxMAAA6hwABwAACAwAAAieAAAAABzqAAAACAAAAAAAAAAAAAAAAAAAAAAAAAAAAAAAAAAAAAAAAAAAAAAAAAAAAAAAAAAAAAAAAAAAAAAAAAAAAAAAAAAAAAAAAAAAAAAAAAAAAAAAAAAAAAAAAAAAAAAAAAAAAAAAAAAAAAAAAAAAAAAAAAAAAAAAAAAAAAAAAAAAAAAAAAAAAAAAAAAAAAAAAAAAAAAAAAAAAAAAAAAAAAAAAAAAAAAAAAAAAAAAAAAAAAAAAAAAAAAAAAAAAAAAAAAAAAAAAAAAAAAAAAAAAAAAAAAAAAAAAAAAAAAAAAAAAAAAAAAAAAAAAAAAAAAAAAAAAAAAAAAAAAAAAAAAAAAAAAAAAAAAAAAAAAAAAAAAAAAAAAAAAAAAAAAAAAAAAAAAAAAAAAAAAAAAAAAAAAAAAAAAAAAAAAAAAAAAAAAAAAAAAAAAAAAAAAAAAAAAAAAAAAAAAAAAAAAAAAAAAAAAAAAAAAAAAAAAAAAAAAAAAAAAAAAAAAAAAAAAAAAAAAAAAAAAAAAAAAAAAAAAAAAAAAAAAAAAAAAAAAAAAAAAAAAAAAAAAAAAAAAAAAAAAAAAAAAAAAAAAAAAAAAAAAAAAAAAAAAAAAAAAAAAAAAAAAAAAAAAAAAAAAAAAAAAAAAAAAAAAAAAAAAAAAAAAAAAAAAAAAAAAAAAAAAAAAAAAAAAAAAAAAAAAAAAAAAAAAAAAAAAAAAAAAAAAAAAAAAAAAAAAAAAAAAAAAAAAAAAAAAAAAAAAAAAAAAAAAAAAAAAAAAAAAAAAAAAAAAAAAAAAAAAAAAAAAAAAAAAAAAAAAAAAAAAAAAAAAAAAAAAAAAAAAAAAAAAAAAAAAAAAAAAAAAAAAAAAAAAAAAAAAAAAAAAAAAAAAAAAAAAAAAAAAAAAAAAAAAAAAAAAAAAAAAAAAAAAAAAAAAAAAAAAAAAAAAAAAAAAAAAAAAAAAAAAAAAAAAAAAAAAAAAAAAAAAAAAAAAAAAAAAAAAAAAAAAAAAAAAAAAAAAAAAAAAAAAAAAAAAAAAAAAAAAAAAAAAAAAAAAAAAAAAAAAAAAAAAAAAAAAAAAAAAAAAAAAAAAAAAAAAAAAAAAAAAAAAAAAAAAAAAAAAAAAAAAAAAAAAAAAAAAAAAAAAAAAAAAAAAAAAAAAAAAAAAAAAAAAAAAAAAAAAAAAAAAAAAAAAAAAAAAAAAAAAAAAAAAAAAAAAAAAAAAAAAAAAAAAAAAAAAAAAAAAAAAAAAAAAAAAAAAAAAAAAAAAAAAAAAAAAAAAAAAAAAAAAAAAAAAAAAAAAAAAAAAAAAAAAAAAAAAAAAAAAAAAAAAAAAAAAAAAAAAAAAAAAAAAAAAAAAAAAAAAAAAAAAAAAAAAAAAAAAAAAAAAAAAAAAAAAAAAAAAAAAAAAAAAAAAAAAAAAAAAAAAAAAAAAAAAAAAAAAAAAAAAAAAAAAAAAAAAAAAAAAAAAAAAAAAAAAAAAAAAAAAAAAAAAAAAAAAAAAAAAAAAAAAAAAAAAAAAAAAAAAAAAAAAAAAAAAAAAAAAAAAAAAAAAAAAAAAAAAAAAAAAAAAAAAAAAAAAAAAAAAAAAAAAAAAAAAAAAAAAAAAAAAAAAAAAAAAAAAAAAAAAAAAAAAAAAAAAAAAAAAAAAAAAAAAAAAAAAAAAAAAAAAAAAAAAAAAAAAAAAAAAAAAAAAAAAAAAAAAAAAAAAAAAAAAAAAAAAAAAAAAAAAAAAAAAAAAAAAAAAAAAAAAAAAAAAAAAAAAAAAAAAAAAAAAAAAAAAAAAAAAAAAAAAAAAAAAAAAAAAAAAAAAAAAAAAAAAAAAAAAAAAAAAAAAAAAAAAAAAAAAAAAAAAAAAAAAAAAAAAAAAAAAAAAAAAAAAAAAAAAAAAAAAAAAAAAAAAAAAAAAAAAAAAAAAAAAAAAAAAAAAAAAAAAAAAAAAAAAAAAAAAAAAAAAAAAAAAAAAAAAAAAAAAAAAAAAAAAAAAAAAAAAAAAAAAAAAAAAAAAAAAAAAAAAAAAAAAAAAAAAAAAAAAAAAAAAAAAAAAAAAAAAAAAAAAAAAAAAAAAAAAAAAAAAAAAAAAAAAAAAAAAAAAAAAAAAAAAAAAAAAAAAAAAAAAAAAAAAAAAAAAAAAAAAAAAAAAAAAAAAAAAAAAAAAAAAAAAAAAAAAAAAAAAAAAAAAAAAAAAAAAAAAAAAAAAAAAAAAAAAAAAAAAAAAAAAAAAAAAAAAAAAAAAAAAAAAAAAAAAAAAAAAAAAAAAAAAAAAAAAAAAAAAAAAAAAAAAAAAAAAAAAAAAAAAAAAAAAAAAAAAAAAAAAAAAAAAAAAAAAAAAAAAAAAAAAAAAAAAAAAAAAAAAAAAAAAAAAAAAAAAAAAAAAAAAAAAAAAAAAAAAAAAAAAAAAAAAAAAAAAAAAAAAAAAAAAAAAAAAAAAAAAAAAAAAAAAAAAAAAAAAAAAAAAAAAAAAAAAAAAAAAAAAAAAAAAAAAAAAAAAAAAAAAAAAAAAAAAAAAAAAAAAAAAAAAAAAAAAAAAAAAAAAAAAAAAAAAAAAAAAAAAAAAAAAAAAAAAAAAAAAAAAAAAAAAAAAAAAAAAAAAAAAAAAAAAAAAAAAAAAAAAAAAAAAAAAAAAAAAAAAAAAAAAAAAAAAAAAAAAAAAAAAAAAAAAAAAAAAAAAAAAAAAAAAAAAAAAAAAAAAAAAAAAAAAAAAAAAAAAAAAAAAAAAAAAAAAAAAAAAAAAAAAAAAAAAAAAAAAAAAAAMjAyMTowMzozMSAxMjozODozMwAyMDIxOjAzOjMxIDEyOjM4OjMzAAAAQQBuAGQAcgDpACAARABpAGEAcwAgAE4AdQBuAGUAcwAAAP/hCyRodHRwOi8vbnMuYWRvYmUuY29tL3hhcC8xLjAvADw/eHBhY2tldCBiZWdpbj0n77u/JyBpZD0nVzVNME1wQ2VoaUh6cmVTek5UY3prYzlkJz8+DQo8eDp4bXBtZXRhIHhtbG5zOng9ImFkb2JlOm5zOm1ldGEvIj48cmRmOlJERiB4bWxuczpyZGY9Imh0dHA6Ly93d3cudzMub3JnLzE5OTkvMDIvMjItcmRmLXN5bnRheC1ucyMiPjxyZGY6RGVzY3JpcHRpb24gcmRmOmFib3V0PSJ1dWlkOmZhZjViZGQ1LWJhM2QtMTFkYS1hZDMxLWQzM2Q3NTE4MmYxYiIgeG1sbnM6ZGM9Imh0dHA6Ly9wdXJsLm9yZy9kYy9lbGVtZW50cy8xLjEvIi8+PHJkZjpEZXNjcmlwdGlvbiByZGY6YWJvdXQ9InV1aWQ6ZmFmNWJkZDUtYmEzZC0xMWRhLWFkMzEtZDMzZDc1MTgyZjFiIiB4bWxuczp4bXA9Imh0dHA6Ly9ucy5hZG9iZS5jb20veGFwLzEuMC8iPjx4bXA6Q3JlYXRlRGF0ZT4yMDIxLTAzLTMxVDEyOjM4OjMzLjA5OTwveG1wOkNyZWF0ZURhdGU+PC9yZGY6RGVzY3JpcHRpb24+PHJkZjpEZXNjcmlwdGlvbiByZGY6YWJvdXQ9InV1aWQ6ZmFmNWJkZDUtYmEzZC0xMWRhLWFkMzEtZDMzZDc1MTgyZjFiIiB4bWxuczpkYz0iaHR0cDovL3B1cmwub3JnL2RjL2VsZW1lbnRzLzEuMS8iPjxkYzpjcmVhdG9yPjxyZGY6U2VxIHhtbG5zOnJkZj0iaHR0cDovL3d3dy53My5vcmcvMTk5OS8wMi8yMi1yZGYtc3ludGF4LW5zIyI+PHJkZjpsaT5BbmRyw6kgRGlhcyBOdW5lczwvcmRmOmxpPjwvcmRmOlNlcT4NCgkJCTwvZGM6Y3JlYXRvcj48L3JkZjpEZXNjcmlwdGlvbj48L3JkZjpSREY+PC94OnhtcG1ldGE+DQogICAgICAgICAgICAgICAgICAgICAgICAgICAgICAgICAgICAgICAgICAgICAgICAgICAgICAgICAgICAgICAgICAgICAgICAgICAgICAgICAgICAgICAgICAgICAgICAgICAgCiAgICAgICAgICAgICAgICAgICAgICAgICAgICAgICAgICAgICAgICAgICAgICAgICAgICAgICAgICAgICAgICAgICAgICAgICAgICAgICAgICAgICAgICAgICAgICAgICAgICAKICAgICAgICAgICAgICAgICAgICAgICAgICAgICAgICAgICAgICAgICAgICAgICAgICAgICAgICAgICAgICAgICAgICAgICAgICAgICAgICAgICAgICAgICAgICAgICAgICAgIAogICAgICAgICAgICAgICAgICAgICAgICAgICAgICAgICAgICAgICAgICAgICAgICAgICAgICAgICAgICAgICAgICAgICAgICAgICAgICAgICAgICAgICAgICAgICAgICAgICAgCiAgICAgICAgICAgICAgICAgICAgICAgICAgICAgICAgICAgICAgICAgICAgICAgICAgICAgICAgICAgICAgICAgICAgICAgICAgICAgICAgICAgICAgICAgICAgICAgICAgICAKICAgICAgICAgICAgICAgICAgICAgICAgICAgICAgICAgICAgICAgICAgICAgICAgICAgICAgICAgICAgICAgICAgICAgICAgICAgICAgICAgICAgICAgICAgICAgICAgICAgIAogICAgICAgICAgICAgICAgICAgICAgICAgICAgICAgICAgICAgICAgICAgICAgICAgICAgICAgICAgICAgICAgICAgICAgICAgICAgICAgICAgICAgICAgICAgICAgICAgICAgCiAgICAgICAgICAgICAgICAgICAgICAgICAgICAgICAgICAgICAgICAgICAgICAgICAgICAgICAgICAgICAgICAgICAgICAgICAgICAgICAgICAgICAgICAgICAgICAgICAgICAKICAgICAgICAgICAgICAgICAgICAgICAgICAgICAgICAgICAgICAgICAgICAgICAgICAgICAgICAgICAgICAgICAgICAgICAgICAgICAgICAgICAgICAgICAgICAgICAgICAgIAogICAgICAgICAgICAgICAgICAgICAgICAgICAgICAgICAgICAgICAgICAgICAgICAgICAgICAgICAgICAgICAgICAgICAgICAgICAgICAgICAgICAgICAgICAgICAgICAgICAgCiAgICAgICAgICAgICAgICAgICAgICAgICAgICAgICAgICAgICAgICAgICAgICAgICAgICAgICAgICAgICAgICAgICAgICAgICAgICAgICAgICAgICAgICAgICAgICAgICAgICAKICAgICAgICAgICAgICAgICAgICAgICAgICAgICAgICAgICAgICAgICAgICAgICAgICAgICAgICAgICAgICAgICAgICAgICAgICAgICAgICAgICAgICAgICAgICAgICAgICAgIAogICAgICAgICAgICAgICAgICAgICAgICAgICAgICAgICAgICAgICAgICAgICAgICAgICAgICAgICAgICAgICAgICAgICAgICAgICAgICAgICAgICAgICAgICAgICAgICAgICAgCiAgICAgICAgICAgICAgICAgICAgICAgICAgICAgICAgICAgICAgICAgICAgICAgICAgICAgICAgICAgICAgICAgICAgICAgICAgICAgICAgICAgICAgICAgICAgICAgICAgICAKICAgICAgICAgICAgICAgICAgICAgICAgICAgICAgICAgICAgICAgICAgICAgICAgICAgICAgICAgICAgICAgICAgICAgICAgICAgICAgICAgICAgICAgICAgICAgICAgICAgIAogICAgICAgICAgICAgICAgICAgICAgICAgICAgICAgICAgICAgICAgICAgICAgICAgICAgICAgICAgICAgICAgICAgICAgICAgICAgICAgICAgICAgICAgICAgICAgICAgICAgCiAgICAgICAgICAgICAgICAgICAgICAgICAgICAgICAgICAgICAgICAgICAgICAgICAgICAgICAgICAgICAgICAgICAgICAgICAgICAgICAgICAgICAgICAgICAgICAgICAgICAKICAgICAgICAgICAgICAgICAgICAgICAgICAgICAgICAgICAgICAgICAgICAgICAgICAgICAgICAgICAgICAgICAgICAgICAgICAgICAgICAgICAgICAgICAgICAgICAgICAgIAogICAgICAgICAgICAgICAgICAgICAgICAgICAgICAgICAgICAgICAgICAgICAgICAgICAgICAgICAgICAgICAgICAgICAgICAgICAgICAgICAgICAgICAgICAgICAgICAgICAgCiAgICAgICAgICAgICAgICAgICAgICAgICAgICAgICAgICAgICAgICAgICAgICAgICAgICAgICAgICAgICAgICAgICAgICAgICAgICAgICAgICAgICAgICAgICAgICAgICAgICAKICAgICAgICAgICAgICAgICAgICAgICAgICAgIDw/eHBhY2tldCBlbmQ9J3cnPz7/2wBDAAcFBQYFBAcGBQYIBwcIChELCgkJChUPEAwRGBUaGRgVGBcbHichGx0lHRcYIi4iJSgpKywrGiAvMy8qMicqKyr/2wBDAQcICAoJChQLCxQqHBgcKioqKioqKioqKioqKioqKioqKioqKioqKioqKioqKioqKioqKioqKioqKioqKioqKir/wAARCAEjAd8DASIAAhEBAxEB/8QAHwAAAQUBAQEBAQEAAAAAAAAAAAECAwQFBgcICQoL/8QAtRAAAgEDAwIEAwUFBAQAAAF9AQIDAAQRBRIhMUEGE1FhByJxFDKBkaEII0KxwRVS0fAkM2JyggkKFhcYGRolJicoKSo0NTY3ODk6Q0RFRkdISUpTVFVWV1hZWmNkZWZnaGlqc3R1dnd4eXqDhIWGh4iJipKTlJWWl5iZmqKjpKWmp6ipqrKztLW2t7i5usLDxMXGx8jJytLT1NXW19jZ2uHi4+Tl5ufo6erx8vP09fb3+Pn6/8QAHwEAAwEBAQEBAQEBAQAAAAAAAAECAwQFBgcICQoL/8QAtREAAgECBAQDBAcFBAQAAQJ3AAECAxEEBSExBhJBUQdhcRMiMoEIFEKRobHBCSMzUvAVYnLRChYkNOEl8RcYGRomJygpKjU2Nzg5OkNERUZHSElKU1RVVldYWVpjZGVmZ2hpanN0dXZ3eHl6goOEhYaHiImKkpOUlZaXmJmaoqOkpaanqKmqsrO0tba3uLm6wsPExcbHyMnK0tPU1dbX2Nna4uPk5ebn6Onq8vP09fb3+Pn6/9oADAMBAAIRAxEAPwD6RooooAKKKKACiiigAooooAKKKKACiiigAooooAKKDTcHceeKAHUUwuR6DnvQSc4DcdaAH0UmaWgAoopDnHHWgBaKj37V5J64BPelV8g9iOoNAD6KQHNLQAUUUhoAWimFsZycADrTVkLdMEg84oAlooFFABRRTWJHT0oAdRUbMV5yOexpd277p4oAfRTF3kKTj3xT6ACiiigAoprE5+XGfemqTvHzZGPzoAkopKUUAFFFFABRRRQAUUUhoAWikBpaACimbiCehAHbrRuJyQRigB9FML4XP6npQpYtyCO1AD6KjVmJJ6j09KUPu6ZGKAH143+07/yTPT/+wvH/AOiZq9g3N16jPavHv2nDn4Z6ce39rx8f9sZqAPZaKKKACiiigAooooAKKKKACiiigAooooAKKKKAEIypFIwJXANOppO0c+tAHmvjGa88Q+NLXwzb3cltabN9w8fU8ZHP1FP8E3t1o/inUfC19cvcRwjzLdm5OzOBk1HduNJ+M8U96wSC6hCozcDIU55/GjRCuqfF/U7q1+eC3i8ppF6bg3TP40AelIPlFPpF6UtABTXGRjt3p1NcZ2+gPNAHMeMdW1PStEc6JatdXso2xKQcIfU1i/CO/wBV1DwnNJrsnm3guZA59PnPH4V3N8wSzlP8QU4NcL8ImJ8P3rZzm+n5/wC2hoA9BU/yp9JgZzS0AFIaWkNAHG+PLfXdSjtNN0KT7PHcSYubgdUTHb8ayvDOlXHhbxp/ZSam93b3EBlMcjZZTkDPrXQeNfF9n4R0V7mc7rmQbIIs/faue+HWgXpvrnxJ4gu45tUvV+WFXB8lDj5cZ9qAPSBS00U6gAprE7sD0p1Nfn/GgDkPGuma5q0cFnpF0LS3Zs3MmeSuef0zXM+D7u50rx7caDp1+dS09YlZ3LbvLY5zzz6V3Osa/p2lywWmoytEl0Sise56dfxrgUsrbw98YrCLw24aPUQftgB3AAKSDn60AesKvIYnB6fWpKiGTJ833QeKloAKKKDQBS1K9isLOW7upFjhgG5mJry7wH4i1jW/idfTaiWis5EY20J4+UADOK3fijHr01lZx6JZi5g87/SkyPmTB/8ArVxXhXXdYl+Lyw3Oj/ZwYCpAYfIMKKAPdaBTRSSAsuAcUASZHrQCD0rlbnwldXN8841aZFb+AOwx+tQf8IVeD7us3AH/AF0b/GgDsaK47/hC77/oNXH/AH8b/Gj/AIQu+/6DVx/38b/GgDsaQ1x//CF33/QauP8Av43+NH/CF33/AEGrj/v43+NAHTXV/a2RX7XcRw7zhd7AZNWEcOoKnIPQivJPHXwp1fX0sktdanBil3MxduBx713HhTw1deHbNbe41CW9G3Bd2Jx+ZoAwfE51LxN4qTw9b3DWtmiF7gocFsY6H6GjT/tvw8sr46leNeWIx9kRuWLHPHr1xUnizTdZ0rXI/EHh6H7W4QrNAWxuBPv9Ky30jxP4o0ebUNYjWG4R1ktrTjA2nPPbnAoAbf8Aju91rwzewT2raXfxhJI0JPzKXHr+Nb1v45ih0WaeeFibWXyJCMnJxnNcmNA8S+J4Ly/1S0S0lWOOKKIEZba3PI9qL7w74nS+uNItrRGsruXz2kOMrxjGaANofFN21z7KdNYWYkSI3AyRlhxU+p/EaXS9ajtJ9OVLN2AE7OQxz7VQPhLVn0eS0WFVcXcMm7jooOa5fUfC3i681X7NPa/aGjmR0uCw2om7OMH2oA7dfiS0vikaTZ2SyxBtpfeQ499tc1+0y274a6cR0OrRE+37man614b1q68T2o03T/sswILXiMAG/AVD+0lHJH8K9KWVgzDVYgx9T5M1AHtdFFFABRRRQAUUUUAFFFFABRRRQAUUUUAFIW9OaWsLW/EkWj3MMBhknklPCoM4oA3CfXimHnGea53/AISyUYP9k3uCOP3VIfF0v/QJvP8Av1QBN4l8J6f4ptVi1AMjocpLHwy/Q07w54WsfDFm1vp+7523SSN95z71W/4S6X/oFXn/AH6pf+Euk/6BV5/36oA6VeBS5rmf+Eul/wCgVef9+qP+Euk76VeAevlUAdNu5xSE7sriuUtvG4ui4h067cxsQcR1KPF03OdIvBz/AM8qAOjmiE0RRhwRg/Ss3Q/D9toFpJbWI2xvI0mPdjk/zrP/AOEul/6BV5/36o/4S6X/AKBV5/36oA6TB2inbulcz/wl0v8A0Crz/v1QPF0uCTpV4OP+eVAHTZoPNcpbeOBdI5i0y7JRsH93Uv8Awl0v/QKvP+/VADfFngHSvGMlu+qmUNbNuiKEfKcYzUfh7wBZeHdSa8t7+9ndl27ZnBA/Spv+Eul/6BV5/wB+qP8AhLpf+gVef9+qAOlFKTjtmuZ/4S6X/oFXn/fqg+MHVSzaVeAAZJ8qgDpmbbSZ3AbeneuVh8bfaIfMg0y7cE/886lHi2ZeDpN4P+2VAF7XvDVj4jsfs2pxBwOVfHzIfUVneG/Aum+GZmmtXluZmGDNcEFgOwBp/wDwl0v/AECrz/v1R/wl0v8A0Crz/v1QB0a53ZNPDA9K5g+LpQONJvD/ANsqU+L3SF3l0q8UKMn91QB0+aK5K38a/ao/Ng0y8YE4/wBX6VL/AMJbN/0Cbz/v1QB0jqcjYcHOT71lQeHLODxFJrK7jdSKUJ7YP/6qpf8ACXS99KvP+/VH/CXSf9Aq8/79UAdJignA965r/hLpf+gVef8AfqlHiyRjzpV5x6RUAdGflBbv3pwHHWuXTxgn2uGO5sLmDzX2BpExXUKQygjoRmgAx70Y96WigBMe9GPelooATmk2jGBx9KdRQAzYck55x+VIEIJ5qSigBpjBxnnFKQeMfjS0UANCnOTijZTqKAG7eeDjjpXjn7Ta7fhlp4HT+14//RM1ey143+07/wAkz0//ALC8f/omagD2SiiigAooooAKKKKACiiigAooooAKaSQ2c8dxSk1geKPFNl4YsluLxizudscSD5nbsBQBvZY9Bx61zGqAf8JlYggHjPI9jR4V8Z2fiuOQW4a3uIv9bBJ94DtRqYx4ysfoP5GgDpti8fKOPal2J/dX8qWkzQAbE/ur+VGxP7q/lSg0tADdif3V/KkkRfLb5V6elPpsn+rb6UAc14TRTNfkqP8AXN2966URrk/KPyrnPCf+tv8A/ru3866WkA3Yn91fyo2J/dX8qdRQA3Yn91fypGjQqQVGMelPpD3+lMDnPCsSCXUOOko6/jXRbE/ur+VYHhb/AFuof9dR/I10NADdif3V/KjYn91fyp1FADdif3V/KorqNDZzfKv+rbt7VPUVz/x6Tf7jfyoAwfB8af2O4wD+8PWuhCL/AHR+VYPg/wD5BL/9dDW/3oATYn91fyo2J/dX8qdRmgBpjQj7o/Kqmpoo024wBzGe1XTVPVP+Qbcf9czQBmeEY0Gij5R/rG7e9b2xf7o/KsTwl/yBR/10b+dblADdi/3V/KjYn91fyp2aKAG7E/ur+VI0aEY2j8qfSUAc54sVVj04hRn7Uvb2NdFF/qU/3RXP+Lf9Xp3/AF9L/I10EX+pT/dFADqKKKACiiigAooooAKKKKACiiigAooooAK8b/ad/wCSZ6f/ANheP/0TNXsleN/tO/8AJM9P/wCwvH/6JmoA9kooooAKKKKACiiigBGGay9a1220OFHugxL8ALWrXMeJo1bUtP38nzBwRkdaAIv+E/s/+fK6/IVBefEO0hs5ZFsrkFFLcgdq61baDYP3MfT+6KSWytpomjkgjKsMEbRQBz3gXxdH418PLqMcLQ5O0q1cr4lYXvxh0i0uBuiiiZlU9M7lr0Wy062022EFhEsMa9FUYrhvH+jaha65YeJtHga5ltTsliUclSQTj8qAI5FSw+Myi0TYtxABKB04Xiui1HI8YWefT+hrA8I22qa74vufEer2jWcflqkETghjwQcg9K3tTP8AxWFjkYOBx+BoA3b+9TTNPmupvuRLuNeZ2vxG8QGWPU77T4k0OefyY5FzvB3Y+ldv43t5rrwdqMVsCZGgYADrXnFxqum3HwrsbKKdGuGuAiqCNwbcR0+tAHqOo6zFp2iyao43RrGHAHU5HFcJp3xE8Qx31lda5pkUWk6k+23dM7l4zzk4rW8VJv8Ahj9mB3SxQxGRVPzDGM/yrmNd1PT9U8C+GbOymjknZ1AjRvmU7fSgD1+Nt0at1yM05/8AVN9DUdqpW0hDDBCAH8qkk/1TfQ0Ac34VT578/wDTZv51V8Z+Kb3R2tdP0W1F1qd222NT0X3P5Vb8J5L3vTid/wCdc/4ouINP+KGkXV64ihdRGHc4UNknrSA0fBnirUNTnudN1+2W21O1OGC52txnvzV7xl4rh8KaO13JE08xUlI17kVzXh26gvPitq97bOr20aFTIpyrHaOc11niW2tbvw3eTMEk2W8hV+uDtNAEvhXV5tf8N2WpTxCFriMOU7rkVsnv9K5fwAd3gnTJB8xMK5PTtXUHv9KYHO+GThtRIx/rR1+hrI8W+KtXtdTi0Xw3bRT6g673MmdqjGR09a1/DP8ArNQ5x++H48GublvLfS/i5LLqEqwrPbqI3lOAcKc0AbvgvxLceILGaPUofIv7KQxXCDpuHUisfxP4s8Rf27/ZHhLTFlMSFpZ5gduc9BioPAVzFNr3iO8hcC3a8cLJn5WORyKveMvFQ06aPRtDaAaterjexA8kdNx/+vQBqeCPE58UaL9onjEVxG5jkQdiCQf5V0FwMWspB/gbP5Vg+DNCttE0FIbe4WeRmLyyrg7mJyf1NblySbOYtwNhxj6U2BkeEznSX28EyH+Vc54n8Za2uvS6X4VsobqW1G6cyZ49uPrXSeFf+QU3r5hAx9K47RL6z0r4i+I11KdIDM/mIJTjcoVRxmo1uB1vg/xKPFGiC7KhJlYpJGOgZTg/qK57xH4p8S2+sS/2TpiGwtQDPLKDlvUDBpPhbPEuiXbuwWKS7l8snjPzml8YXeleJdPu9Mh1T7FcWWXYDAL+3XpxVAdfoOrDXtGtdSSNo0uIw6q1WdU/5Btx/wBczXM/De/lv/CNqHiMAhATGPvDHb2rptU/5Btx/wBczQBneE/+QKP+ujfzq5repw6PpU+oXHCQrnHqe1U/Cf8AyBR/vt/Os34lwyT+BL1YwSwKk47AMDQBzelePtfTU7ObXdPhg03UpAtuy53DPrnjsa9O8wBA2fkIzXkfiTU7TUfDXhm30+4SaWaVVCLjcvB5x2rr/F9/e2fg2SPR4Dc3HlqjKhJYZXnpQBBpXxAGtePbrw9aW5MNuoJuD0J5yP0rtlGDxgeuPWvDvB+tta/EKysotEmtZXgzKzq3J28nJr3JeQKAOf8AFv8Aq9O/6+l/ka6CL/Up/uiuf8W/6vTv+vpf5Gugi/1Kf7ooAdRRRQAUUUUAFFFFABRRRQAUUUUAFFFFABXjf7Tv/JM9P/7C8f8A6Jmr2SvG/wBp3/kmen/9heP/ANEzUAeyUUUUAFFFFABRRRQAHtXM+Jf+Qpp//XQfzrpj2rmfEv8AyFNP/wCug/nQB0q/cX6UtIv3F+lLQAmKQj5h6elOpMAnPf1oAjUEsSeg6Vzeqf8AI52P0H8jXUYrmNUwfGFjtGT0/Q0AdJIu6NhgHPYjNclafDnQbTW/7UjtnEoYt5RfMYPXIXpXX+lLjFAGXFoVol1c3DhnNyu1kZsrj6fjWLpXw90LS9abUoIG8wHKo7ZWM+wrrsA9aRk3YyTgfrQAqY2Db0pJP9W30NOpr8Rt9KAOa8J4El96tO/86v6/4c07xFZi21WHeqn5WU4ZT7HtVLwoQRffL/y8Of1rogMjkfnQBz+n+C9L0rRn0yyjdI5B80gf5z/wLrWp/Z8P9ltYkExeXsIJ5Ixir2KQLgk560AVNNsYdNsI7S2TbDGoC1cPf6UY/GkJxnjtQBz/AIY/1mocZ/fD+Ro8SeFNL8UQp/aUbBoydkiHawz15pfC3Mmodv3w/rW/toAwbbwjptpoMemWqvFCMEsrYZj6k/hWXqvw10PV9WOo3QuFuMbPMScglfTiuzxxjNN2D9c0AZWg6Hb+H7P7JbPI6E5Bdix/M1o3K4tJeekbfyqYDHcmo7oZtJv9xv5UAYnhP5tHOPvbz/Kq/iHwLpPiWeObUomWULtMkT7SR6ZFT+EM/wBjvgc+Ya39ufvfkaAMVfDGnrZW1pFE0UVsQVEb7eR3OOtZuteANG1vUlvbmN0mXG9oW2bwOgOOtdYFwOtKFAz70AVbG1gsbaO3tkCRIuEUDoKTVP8AkG3H/XM1bxVTVD/xLLjj/lmaAM3wrzogBz/rG6fWte4iS4haGZFZGBDKRnIrJ8Jc6KOo+dv51uBQPc0AchpHw60PRtYN/axyNKPmjSR9yp9Aelbtno8NjcTyQFy1wdz723AY9BWjt5yaUCgDPOj2h1dNQ8ofaFXbv/DFX++acRkYpu3aPl/WgDn/ABb/AKvTv+vpf5Gugi/1Kf7ornfFpPk6dkc/a1/ka6KL/Up/uigB1FFFABRRRQAUUUUAFFFFABRRRQAUUUUAFeN/tO/8kz0//sLx/wDomavZK8b/AGnf+SZ6f/2F4/8A0TNQB7JRRRQAUUUUAFFFFAAe1cz4l/5Cmn/9dB/OumPauZ8S/wDIU0//AK6D+dAHSr9xfpS0i/cX6UtABRRTWPzAHp60AOri/E1/Hp3imxkkjlkHogz2NdjuAI5yTXM6uqv4wsQyhh7j2NAD18YwMPlsbrA9U/8Ar0v/AAmMH/Pjd/8Afv8A+vXQCCH/AJ5J/wB8ineRF/zyT/vkUAc7/wAJjB/z43f/AHx/9ek/4TKD/nxu/wDviuiMEX/PJP8AvkUnkRf88k/75FAHPf8ACZQf8+N3/wB8Uj+MYCjD7Dd9P7ldGIIsf6pP++RSPBF5bfuk6f3RQBwXhzxZbQ/a/wDQ7r5p2/g96328ZW3ayuz/AMA/+vUXhWGIyX2Y0P79uqj1rozBF/zyT/vkUAc//wAJjB/z43f/AH7/APr0f8JjB/z43f8A37/+vW/5EX/PJP8AvkUvkRf88k/75FAHP/8ACYwf8+N3/wB+/wD69I/jO2JAFndc/wCx/wDXrofIi/55J/3yKDbw8/uY+n90UAcL4f8AFlvHNfYsrs5lH8Ht9a2v+Exg/wCfG7/79/8A16XwxDEZdQzGh/ej+Ee9b/kRf88k/wC+RQBz/wDwmMH/AD43f/fv/wCvR/wmMH/Pjd/9+/8A69dB5EX/ADyT/vkUeRF/zyT/AL5FAHPf8JlB/wA+N3/3xTJ/GMBt5R9huxlD/B7V0vkRf88k/wC+RUVzBF9ll/dJ9xv4R6UAcV4Z8WQW+mHNnd4aQ/we1bJ8Ywbj/oV2f+Af/Xp/hKGJtJfdGh/eHqord8iL/nkn/fIoA5//AITGD/nxu/8Av3/9ek/4TKD/AJ8bv/viuh8iL/nkn/fIo8iLP+qT/vkUAc+vjGAsM2N3/wB8VBe+L7Z7GcfY7r/Vn+Cuo8iLH+qT/vkVU1OCIabcYiQfuz/CKAOR8NeL7dNIAFldn52/g961/wDhMoP+fG7/AO+Km8JwRHRR+6T/AFjfwj1rc8iL/nkn/fIoA57/AITGD/nxu/8Avj/69H/CYwf8+N3/AN8f/XrofIi/55J/3yKTyIv+eSf98igDnv8AhMoP+fG7/wC+KP8AhMoMgfYbr8UrofIi/wCeSf8AfIo8iHj90n/fIoA4fXPEUOoPp0a2lxF/pa/Myexruof9QnOflFc74sijWPTtqKP9KXoPY10cX+pT/dFADqKKKACiiigAooooAKKKKACiiigAooooAK8b/ad/5Jnp/wD2F4//AETNXsleN/tO/wDJM9P/AOwvH/6JmoA9kooooAKKKKACiiigBCcYzXNeJjjVNO/66D+ddKwB6jNcf42vxplxYTGJpgJB8o+tAHXqfkX6UpNcgvj2IKP9AuBx6Cqmq/EdbPS5p4dOnd0XIBA5oA7nPX2rL1/W7PQdJm1DUJgkMKliO5qp4N11/FHhW01SSFrd7hNxRuopPFeg2OtaU41FCywqWA9fagCDwT4vi8Y6W1/bxFIg7KpPcA0arz4wscen9DWB8H4li0S9SIeWq3UgCjsAxxXQar/yOFj9P6GgDpwaA6k4yM+lQ3MhitZHVN5VchfWvOfCWr+Ib3x9eRa8nlQ7WNvFzwoFAHpm4Yz2pomiY4V1Y5x8pziuX8fa/NoXhV57IHz5HWNPbJA/rXEaYdb8G6/pc15fvd22rMFkjY/dfBJP6UAexU1/9W30pVO5QfUZof8A1bfSgDnPCn+sv/8Aru3866EsP1rm/CgHmXxzz9of+dVPiLqevadoEx8PW/mSFPmf/nmPWgDrwwPQ5o3AdTisLwdcT3XhO0mu38ycrmQ+pzWB8TNV1+00kJ4dt8ZZTNOf4Vz/AIZoA73IPQ0p7/Ssfw3cNd+F7CeV90hhXc57nFbB7/SgDn/C/wDrNQ/66j+Rrf3ADJIxXP8Ahj/Wah/12H9a5/4m6p4gsbOOPw/BtTzYzNN6AsKAO/Dg5welI00anDuqn3OKp6Q7zaLaPK252jBJ/vGvPvFGgeItU1G+vrrVzp9na5+zhCQCOuT+tAHqORUVyf8ARZf9xv5VzPw71e91rwhBdakD56s8eT/EFYgH9K6S4X/RJv8Acb+VAGP4Q/5BL/8AXQ1uF1BOTj61heEBt0c9/wB4c/lXKfEHWvEdpq+nRadH5VgbxFlm9vSgD0kHIyOlN8xA4UuoY9ATzUUG5rJCHLOUByfpXlHjG01fR75tbvNfME5lCWttuPzDPTp6GgD1/rVTVP8AkG3H/XM1Hoc11caLazXy7J3QGRT2NSap/wAg24/65mgDO8JkDRRn/no3863awPCig6MC3aRv51qalNNb2EstpH5swX5E9TQBZLDnmlBz0rzf4favr+o+K9XTxB8m1yYof+eY44rvNSv4tNsZruc4ES5I9fagC0ZFBwTz6U6vLfh9rut6z411SfVhJHaEA2sTfwrzz+IxXqCsG/nQBgeLf9Xp3/X0v8jXQRf6lP8AdFc/4t/1enf9fS/yNdBF/qU/3RQA6iiigAooooAKKKKACiiigAooooAKKKKACvG/2nf+SZ6f/wBheP8A9EzV7JXjf7Tv/JM9P/7C8f8A6JmoA9kooooAKKKKACiiigBCPmBrmvEvOqad0x5g4Iz3rpT2rm/En/IU0/8A66D+dAHQLBCVGYo+n90U2azt5omSSGMq3UbRUy/dH0paAIbe3itIFht41jjQYVVGAKh1GIz2E8an5nQhfrVvFIQCQD9aAON+Hnhy/wDD2n3MV+RuluHkBB5wWJq5qvPjKxHt/Q10mNueSTXN6px4zsfoP5GgDpj05rgrSGQ/FmdwjBfJOGIwBwK709DUKwKJA+1PMPV9oyR6UAcN4/ddc8N3MGlq81xYyLI6BfvYbnH5VzcWtN401vw7a6bBKv2MiW6d0wIzgjb9eletx20UTM8cCKXJD4Uc1Hbafa2rSNZ20MDyNksiAZP4UAXIxtjUHsMUP/q2+lKv3RSSf6tvpQBznhQDzL7j/lu/86t+LFY+FNQCgufK6DvyKqeFP9Zf/wDXdv510ToHRlYAqeoYZBoA5bw1eR6V4Js3vgyjoABz1NN8eZufBs7QhnDhSoUc10zW0TQiNo42QdF2jApWt45I/LZFZO6kcUAZPhFCvhPTfMUqywKCpHQ4rcPf6U1FWNVRAFXoAKce/wBKAOe8MDMmof8AXYfyNVfiJGzeD5liVixmj+6Mn71WvDHEuof9dh/I1uSwrNGEdA6E5IYZoAxbC/t9N0DTVuSYzJGFX1BxXnHjHxfDrPjNtB1CaWy0a0GbkgY88/3fyPavXJLWGUhZIkfZyqlRxUEui6ZOTJNp9tKx5LvCrE/mKAIfDlxp1xocJ0gFLZRhMjFaFySbaYcg7D0+lFvbw20IigiSOMchUAA/KnTj/RZj6of5UAYvg9f+JS+Tn94ayPiXE7afpZiRnP8AaEedo7YNbHg//kEv/wBdD/KtmeOOTHmqrbTuG5c4PrQBnPqtvYR2ltMT500fyDHoB1rzTxR4jsNWjutO8Q6TKNVt5j9jAB+YZwrD8s16y9tBM6SvGjOgwpKjimT6daTTLPNawyTL0dowWH40AZvg5NQi8K2EesuzXgiHmlhgk1pap/yDbj/rmasxkEDA7cZqtqn/ACDbj/rmaAMzwn/yBhkf8tG/nW468Enn0rF8JD/iTD/fb+dbjDIoA8/8M74viHr8kkbKgY/MR97pUnjCwvfGmkxp4cvBDJDOrOrkAPgng+1dqLeNXZkjQO3DHaMn60kdpDDxDGqKeTtGMmgDybwNZ+KLb4k3i600fkrCi5Q8EAHjpXr6qFPFRrbxCQuiKrnq2OTUoOW/H0oA5/xb/q9O/wCvpf5Gugi/1Kf7orn/ABb/AKvTv+vpf5Gugi/1Kf7ooAdRRRQAUUUUAFFFFABRRRQAUUUUAFFFFABXjf7Tv/JM9P8A+wvH/wCiZq9krxv9p3/kmen/APYXj/8ARM1AHsOdvU9KFfr3rmfF2rXOnfYfshwJp0VvoWxU3iPUvsFtbN9qMAc/NjvjGaAN9W69QTzz2pQ2VGDketcbB8RtKv8AUJNPtjKsm0hJmA2s3pmqHgz4gRal5Gm6n5iX7bgJCPkY7uADQB6EX56cetN3tu+7kVykPxF0h/EbaNOk1tc87TMAFfHXFO0v4gaPrPiGfSdOEkk8LFGkUDaCOo/SgDrPSua8Sf8AIU0//roP51py69pdrMIbm/gSVfvKW5rntb1ewvdZ0+O0u4pX8wfKrZ70Admv3B9KWkX7g+lLQAUUUUAGOc1x/iLULbTvFVjLdSBF6ZwT2NdhmuV1qJJfFtirqD3/AENAFz/hMNFOMXgyOT8jf4Uf8Jjon/P2P++G/wAK0/sFqcM0CE+4pTp9kOsEf5UAZf8AwmWi/wDP4P8Avhv8KQeMNDXOLsDJyfkb/CtU6fZjrbx/lQLCyPSCP8qAMv8A4TLRf+fsf98N/hSP4x0UowF2Mkf3G/wrW/s6z/594/ypr6faCNsW6ZxxxQBx3hnxVpEP20vc9Z2/gb1+lb58XaKvW8zn1Rv8KpeGLSCb7aGiU4nft710H2G0P3rdPxFAGYPGOiDpdj/vhv8ACk/4THRP+fsf98N/hWp9gs84+zx5+lL/AGfZ/wDPvH+VAGV/wmOicf6WOOnyN/hSt4w0bb/x9dR/cb/CtP8As+z/AOeEf5Ujaba7f9UvA9KAOP8ADfivRonv9131lHVG9/at3/hMtF/5+x/3w3+FVfDVpavJf+ZCn+uA5H1rf/s+zHW3j/KgDK/4THRM5+1j/vhv8KP+Ex0Qf8vY/wC+G/wrUNhZLjMEYz04o/s+z/54R/lQBlf8Jhon/P2P++G/wps/jDRWtpQLscof4G9PpWv/AGfZ/wDPvH+VR3FjZi2mxBGCEJ6e1AHK+FfFWjw6UwN396Q/wt6fSttvF+igkNdj/vhv8Kq+FLW2uNJLeUvEhxx7VumwtMndCh+ooAyv+Ew0Q9bsf98N/hS/8Jlov/P2P++G/wAK1f7Ps/8An3j/ACo/s+z/AOfeP8qAMseMdFJ4u8n/AHG/wqtqPi7R30+dPtPJjP8AA3+FbosLPgiCP24qrqNnbJp87+QuRGe1AHN+F/F2jRaOFa6wd7fwN6/Stn/hMtF/5+x/3w3+FReFrS1m0cM8CZ3t1HvW1/Z9n/z7x/lQBl/8Jlon/P2P++G/wpP+Ew0MDAux/wB8N/hWp9gs/wDn3j/Kj+z7Pvbx/lQBl/8ACY6JnP2sf98N/hQPGOjE8XY/74b/AArU/s+zz/x7x/lS/wBn2YP/AB7x5+lAHJeIPEWmaj/Z0Vtchn+1r/CR2PtXaRf6lP8AdFcz4qtYY005kjVT9qXoPY10sQxCmP7ooAfRRRQAUUUUAFFFFABRRRQAUUUUAFFFFABXjf7Tv/JM9P8A+wvH/wCiZq9krxv9p3/kmen/APYXj/8ARM1AHYfEOO8WxtruxtGu3glVvLXPY57Vgahfat4w0uFJNGks5IicBg39RXqW080gG33NAHlMXhrURoumr9kUTRXTNIwHO3YR/OnR+G9Ti0PRFtrVUvbeYMX7gbiea9TCgZ+lOC+vWgDwCHw9rt14qs57rTXW5guGaSck4I3ZHbHStaz8P30XxJ+16PpkljI0zG5nbOxxz0zx617TtGSfWk8sbi3Jz1B6UAZ8uj6fcTGSaBXkPVsVz+uaVZWWsafJbxBH3jp9a7DgNjvXOeJcHVdP6D94OScd6AOkTlF+lLUayoFA3r0/vChpowpO9f8AvoUAPzQSe1V7a7hukLQyK+04ba2cGuP8c+I9Ys7u20jw5amW8uQT5pHyoAcZP50AdsX49D9K5nUz/wAVfY9+B/I1i+DvEmtR+IJfDvitEN0IxJHKuAHyM4xW1qSY8XWPbgcfgaAOnPb61EsqFiqupK9VByapeIE1B9Buk0cD7Y0ZETE8K1eVjTdZ8HeJtMkk1eS8ur6UCa2JLYBYAnrxjNAHsJHGSTgnpihXBJEcgbBwQO1cz8Qtcl0XwvI9mcXMjLGjf3dxA/rXC6ZDq/gzX9Imu9SlvbbVmCSqzE7GwSTyfagD2ZTlRiklz5T464NEePLXHTGaJOY2+lAHO+Eydt4rY4uHJP41vSuI1LswUHue1YHhQbWvgeQbh8fnWN4y8Pa14i1VYU1BrHTI03M0bFST9QaAO4Vs878gDk460qlVUgdOuSa4L4ZahqEtte2F7K13FaybIbgn74xS/E/VNdtNJWLQI/LG9TLOeijPI/nQB327Kjbgk+lOPf6VkeFpXn8L2Msr73eFSzepxWue/wBKAOe8Mf6zUf8ArqP5Gtx5kjALuoPQbjjNYXhkAvqO7p5w/ka5jxZ4a1rXtSubm41JtOsLWLdDscjJA74PsKQHogIfnv39qb5giA3SDk8A965L4a6nf6h4ZH9oHzGhcxJMR/rQAMGsHxT4Z1rUr3UNTv8AWm0yztwfIVGI/Hg/WgD1DJbg8dxTLof6LNjr5Z/lXM/DvU7zVvB9vcaiGEwdky3UhSQD+IGa6S6YfZJeeSjY/KmBj+Ewq6Ow6ASH+VbTuqlVLqpPTJ6+1YnhTP8AZDdmDk4P0rhfFuga9dHU9b1HV3sI7MFrSNGIBwM8gHnmgD1VCWHXpnOaQsoYJvwx6VgeCdTvNU8J29xfL/pBGMnjdjgGuA8Z6dqGkXkms3niCWC7eYLbWqltpG70Bx0NAHsQPIPrxVbVP+Qbcf8AXM1Dos9xPpNrJfACdowXA7GptU/5Btx/1zNAGb4TONF/4G3862GcEd+e1Y3hQH+xlwf42/nR4th1W48Pzw6EVF5JhQ+fujIyfyzQBsRSpIWIZDt/utmlThmxklq8m06x1Lwh460+yi1aTUReEfaIWJbYM/e5PHSvT9T1OHS9Oku7n5Y0XP1PpQBbLAuFJGfrT1z1Pc8V5b8O9X1rVfGOrSasxS2cA28LdVXnB/EYr1JfuigDn/Fv+r07/r6X+RroIv8AUp/uiuf8W/6vTv8Ar6X+RroIv9Sn+6KAHUUUUAFFFFABRRRQAUUUUAFFFFABRRRQAV43+07/AMkz0/8A7C8f/omavZK8b/ad/wCSZ6f/ANheP/0TNQB7JRiiigBMUtFFABRRRQAhAJ9/WuP8a2kt9JZW8cpiYyDDD612Ncz4l/5Cmn/9dB/OgCongq82L/xOLjp/e/8ArU2XwVeeS4GrzklSMFv/AK1dkv3B9KUjNAHF/D/wld+FrO9W/vWuXuZvNAY/dGAMVpeJNcsfDWmyanfhTIgwi/xO3YD8q32XMgPavOfiF4F1XxVrFldWl4Y47M7liOMFs5BoAZ4E0nUta1i48W+IozFLcALbQN1RBnBP1BFdJqTH/hL7IjrgfyNZ3hPRPFOn6i0mt6is1ttwqDHH6Vf1RceLrHBP5exoA0PE+tf8I94fu9TEbzG3jMhjTq2O1eW+B/E+k6n4gTU9duJJdXvGKxW79IFzjj9K9oeJJIykih1YYIYZzVddLskkDpaxKy9CIwCKAOL8cD/hJPD11aaWvm3VlIsjRgdQGyf5Vy1rrLeONc0OxsIZEj09g90WH3Dggr+or2QQRrkqgBbrhetRxWkEDM0MKRljklUAzQBPGuxFXOcDFEn+rb6GlA96a+fLbntQBzvhQgvfBecTuR+dcd8TvGLW2q2/h5XktYZxuuLofwrz09+K7DwmAJr84OfPb+dbs9ha3TBp7eN2HdkBNAHIeENb8PWfhRW0dy1pEwVpccsxz1/WrnjYtdeCbholf94FKgdSDXRpYW0cZSOCNUY5KhABUxiVl2sAVxjBFAGJ4OUx+FdOV1KMIFG09uK3T3+lNWNUUKowo6AClc4U/SgDnvDQy+ocZ/fDr9DXn/xB8YRXniH/AIR+9lnsNLiAe4mTjze+0e3GD9a9C8L/AOs1DIP+tH8jWvJp1nMcy2sbn1ZAaAOc8PeINFj8O2J0obbJv3MQx0wM159448YWuseLH0XWJJrLR7I5mx/y2Pp9MGvZxaWyxqiwIqqcgBQAKZJptlK5eW0idj1LIDmkBn+Gr6x1HQbeTSRi1C7VX2HFaVyMWsueAsZx+VSRQRQqFhRUUdAoxTboYs5v9w/ypgYnhRs6Q7E7gZCT+VeYeKPGtprvjGXTNdknstGsJMsv/Pww5wfbk16h4Rx/ZDZH/LQ1rPpllI257WFj6mMGgDCsdf0sWNl9hB8u4XbAoHC44rhPEfiSx1CS50zxFpI/tiGUizJX5iM4VhXrgtoRtxEg2/dwo4pHs7eSTzJIY2f+8UBP50AZPhG2v7XwtYQ6wzSXaRDezdc+9aOqf8g24/65mrQXFVtTP/EuuOP+WZoAzPCn/IFH++386r+NvEf/AAivhi41FbczsoxGijkknGf1qfwpiTRsEcCRv51tSwRzrtmRXX0ZcigDyP4d63o11rj3t5dPda5eLly3/LMZ+6OPauk8TWN1440tYNBvVtTbTq0gfO1sE9cV2Uem2cUgeK2iRgcgqgBqeOCOIERqFzycDrQB5J4I0zxRafEm8/tq4hnhWFVDIGxgA46166o29PWmiJAxYKAx6nFOxhsnrQBz/i3/AFenf9fS/wAjXQRf6lP90Vz3i7Hl6dyf+Ppen0NdBF/qU/3RQA+iiigAooooAKKKKACiiigAooooAKKKKACvG/2nf+SZ6f8A9heP/wBEzV7JXjf7Tv8AyTPT/wDsLx/+iZqAPZKKKKACiiigAooooAD2rmfEv/IU0/8A66D+ddMe1cz4l/5Cmn/9dB/OgDpV+4v0paRfuL9KWgA74pgOW9Me1PzTGb5wPUUAG3k5Ncpr97FaeKLFpXCj1/A11Y5B/WuT1yzgu/FFilxGsi9sj2NAGv8A8JJpfe4GR70f8JJpf/PyPzoPhnSsgizj9/lFL/wjWlf8+Uf/AHyKAE/4STS/+fkfnR/wkmlf8/I/Ol/4RnSe9lH/AN8ij/hGdJ/58Y/++RQADxJpf/PyPzpG8SaWVI+0jp60v/CM6T/z5R/98ikfw1pQRj9ij4H90UAYPhfXtOWS/JuAP37dT71vf8JHpgJzcr+dYfhvQdLmW8H2OPiduw9a3T4Y0ktk2cZ/4CKAE/4SXS/+fkfnR/wkml/8/I/Ol/4RnSf+fGP/AL5FH/CM6T/z5R/98igBP+Ek0v8A5+R+dK3iLTSn/HyvT1o/4RnSf+fKP/vkUf8ACM6UFA+xx4HT5RQBieG/EGnI1+TcAfvR1Psa3P8AhJNN/wCfhfzrC8OaBpc01/mzj+WUDoPStz/hGtK/58o/++RQAv8Awkumf8/K/nSf8JLpn/Pyv50f8IzpP/PlH/3yKP8AhGdJ/wCfGP8A75FAB/wkul/8/K/nTJvEeltbygXK52N39qf/AMIzpH/PlH/3yKjuPDWkrbSkWUfCH+EelAGR4X1/Tk0ds3AH7w9TW5/wkemDrcr+dYnhnQNLuNLO6zjwsh7D0ra/4RrSsnNlGf8AgIoAX/hJNL/5+R+dN/4SXS/+flfzpf8AhGtK/wCfKP8A75FJ/wAIxpH/AD5R/wDfIoAP+El0vtcr+dV7/wAQ6a+nzj7QP9We9WR4Y0nP/HlH/wB8iq9/4c0tLKdhZx8RnsKAM7wvr+mRaON1wOXbv71tf8JJpf8Az8j86xvDPh7S5dJybKM/O38I9a2P+Ea0r/nyj/75FAB/wkml/wDPyPzpP+Ek0v8A5+R+dL/wjWlf8+Uf/fIo/wCEa0n/AJ8o/wDvkUAJ/wAJLpf/AD8j86P+Ej0o9bkce9KPDOkf8+Uf/fIoPhnSuMWUfv8AKKAMTxFrNndjTlgmVv8ASl7+xrsIv9Sn+6K5HxHolhZrpz29siMLtcED2NdbF/qU/wB0UAPooooAKKKKACiiigAooooAKKKKACiiigArxv8Aad/5Jnp//YXj/wDRM1eyV43+07/yTPT/APsLx/8AomagD2SiiigAooooAKKKKAEJ5HFc14jJfVtPCAn94On1rpSMmuQ8aw3NzJZRWMohmMgwT9aAOvXhR9KCQFJPAri10bxSFH/EyXp7VDfaH4rksZUTUlLFSBjFAHbiRSuc8etcBr3xNFlrE1hpOnTXxtBuuZEGQg646+lafw90vWNI8MiDxDdGe5ZsgntUPjTT7+38P3p8L2kJvbpTvZgBnjHpQBvaBrtrr2lxajaHEcgw2f4W7j86ztV48X2eAP8AINZPwquLaTwr9nUMtzDIy3KEfx55x+Oa1dUATxfYkegGPwNAG/f6hbabYPeXsqxQxjczMeBWP4e8caR4llki0+YeZGcbWPJ960tX0601SxNrf/6huGXON3tXmNg0dt8Vohd2Q0uGKMx25UnbNnH0oA9R1DVLfTbGS7vWEcUYySay/DfjTSPFPm/2bMC0TYKseT71hfFAfabXTLN3KxT3AEig/eAI4rJ1HToNB+KelLpUf2dJYwjovQjk0AeqZpsn+qbPAwaF6Clf/Vt9KAOa8JEb78Dkee2D6807xF440fwzMkOoTZlY/cU8gepo8Kthr7OM+e/A7c1l+OtNjt9Mu9R0/TF1HUWjKBGJ4HX3oA62y1G21G0jubORZYZBkOvSodT12y0eFJL6VYldwibj94k4rmfhatvH4OijgkLupPmqx+42TxWR8UvDMV3Hbanc3Um2K6hCRKeM7x70AemJJ5kQdOQwyKXHyEd8VXsiBY24GV3IMVZPf6UAc74X+STUMDJMw/rUGsfEPQtF1WOwurpTMxw20/6v61P4ZO2TUD/02H8jXLfETSorLRp7nSNKW/urpgJpMnMa55PfoCaAPRYbmO5gWaBhJGwyrL0I9a5rUviL4f0vWl0y5ul87dtcg8J9am8CrAfBdhFbzGVVhC7j24rjvGejaJoul3llbW/2zV9Wf92uSX3kYB9QOKAPUYpVmjEkfzIwDKw6EUlwc2cxxj9238qyvCthcaX4btLa9kMkypk57e1alyxNnJ2JQ/yoAxfCZCaI7f7ZNVrj4iaDba4mmSXS+azbd+flB9Kt+FMSaTIpPHmEEfhXB/ErTYtL02NNM01ZIJ5RJd3gJzEvIJoA9X88GMOMFCM7h0xXMJ8RvD8niH+yFulM2du/Py59K19IaGXw5bCJ/MiaBRv9RtrzP4g6Za6cLW1stOCWTzrLPfoSWQkg9fqPWgD17eNwHr0PrVbUxjSrgHr5ZpbGWO4tIZoJBLEyDa3rSap/yDbj/rmaAM3wkQuhr/10bOfrV3V9bs9DsnutRlWGJR1Y4zVHwoAdGGem9v51a1zTLLVbIQ36iRV+ZUJxuPpQBX8O+L9L8To50yZWdPvITyB61tF//r+1eUeDpFX4o3sl9ZDS3a3MNvAGOJF3A7sHH0rp/HnieLR9OisPtCwXV+4ijfP3QeM0Ab+l69p+sT3EWnzLMbZtsm09DnGP0rSHOO1eWfCO1sdLvdVsbW+F04fe7ls5Ykk/rXqYzxmgDn/FxPl6fwP+Ppf5Gt+H/Up/uisDxb/q9O/6+l/ka6CL/Up/uigB1FFFABRRRQAUUUUAFFFFABRRRQAUUUUAFeN/tO/8kz0//sLx/wDomavZK8b/AGnf+SZ6f/2F4/8A0TNQB7JRRRQAUUUUAFFFFACHtXM+J1B1TT/+ug/nXTntXM+Jf+Qpp/8A10H86AOkQDYv0pWHy9KF+4v0pT04oAY4AIJ6dK8z1iTxzoeu3X9mWy6nZ3TDyhuC+Txjv1r00843DINNZcAFe1AHKeAvDU/h3TZnvWDXV1I00uP4Sxzj9ak1Qh/GViwBwQP5GunXjOPyFc5qhP8AwllluwBjr+BoAt+KtGn1rQ5LazuGgnx+6dSRtauN03wv4i1jWba/8UBEGnrtgRcZkIxg8fSvSBcREYMi5+tN86PPyyKSehJ6UAch4g8P6r4l0KSG82297FLvtpF7YOQOPpWf4a8K+IJtfXWvFjo81ugjhjToQD16+5rvjJHu5kX3GeKUTRhRiVcDrzQBImQozyfalc/u2+lMWeJVA3p+BpHuIzGwDrnHHNAHP+FGH+n+ouH5x71jeJtE8T2+uPqPhq58yO4XZJFIchOeuCa2PDMozeB5EXE7cZ966FpYx95lyfQ0AchoPh/UvDWhxx2YWW6uJg9z0AxznFXvGOiXOv6DFawHZKk8Uh/4CwJroDLGQSHUEcnJpzTJgEOufrQAyyj8qyijfllXGT61YP3SfaoTNDgZkXB6c07zU8s/OvT1oAwvDQ/eahjn96OPwNcprfhzxfa6pcLod0s1lfcSrJ/yyB64yfeun8NyoJb/AOdf9cOp+tb7zRcZkUH3NAHM6Ro2oeG7Cw06xVZohnzn98dvxriF8NeOrLxjf60tvBeSyviAyFcRJxwATwcivXBPGCQXUcdQaXz0PDyJg9s0AV9LN2+mQtfAC4/jx2qzc8W0pxn5D/Kl8+ILnzFx9ajuZka1mCuufLPf2oAx/DCmTRZRkKXcjI4xxXF6h4U8WiW50mO5W40e9JDvJ8zID25Oa7Pwm8Y0l1ZlOJD3rbEsfRZFH40Ac/aaZqFhHbaXbr/xLkgZHl3c5x+dcbdeD/Fs8kmgyXKz6NNN5xuX5YDOdnJzxivURPEEOJUODyc0ouI8feX65oAh0yyj0+xgtYhhIVCKM9qdqfOnT/8AXM09Jo/M++nPoeRUOpSJ/Z8/zr/qz3oAz/ChA0bn/no386reM9Gvda0pY9LuzbXcTb4mGcH2NS+FpYl0cFnUHe3U+9bXmRYB3LjsM0AcDoXhvW59dGueI1T7TDH5cEakeua2p/C1v4nsIj4ntF+0RsduwgFRnjBro1ljC7i64B/iPOaFeMtu3qTjnmgDi/BHgC18La5qN3CJMTkbd754yf8AGu7GQ3J47VH58WMl1wPel86M4w6/nQBheLf9Vp3/AF9L/I10EX+pT/dFc54skUxadhgf9KXofY10UX+pT/dFAD6KKKACiiigAooooAKKKKACiiigAooooAK8b/ad/wCSZ6f/ANheP/0TNXsleN/tO/8AJM9P/wCwvH/6JmoA9kooooAKKKKACiiigAPauZ8S/wDIU0//AK6D+ddIWw2Ofyrm/EnOqad/10H86AOlX7i/SlpF+4PpSnpQAGmnBXnpRnPTmonkQIXdgqL1JPSkBLxxniuP8T2MepeJrCGR2XB7fQ1o+HfFVh4mlu006XzRaSGNyBxkEj+lQaiC/jGyHQBQckexoAUeC7TJ/fy/N70HwTaf8/M3510oGFHPSs6LX9Pn1iTS4Z1e7jGXRTnb35pgZX/CE2o6XEv4mlHgu2/57yfnWxqWpW+mWj3N5IIooxlmNZmgeMdJ8SNKul3JZ4vvJIm0n3APUUARf8IXaf8APab86a/gy0CE+fN09a6dT8o5zRJ/q2+hoA8+8NeErNzeH7RJ/rm7+9bn/CGWgz/pEvJ9ad4W/wCX4Ac+e3b3rbvL+3sLSS5vJFhhjGXdzgCgDC/4Q21/5+JqQ+DLX/n4m/Otyw1C31KyS6tGLwv91vWotU1nT9Gt0m1GdIVdwi7mwWJOBgUAZP8Awhlof+Xib86VfBdsi/6+Tp610McqSRq6fdYZBp5B2nnt6UAef+G/B9q7X6meT/WjofY1uf8ACE2n/PxN+dSeGOJtQOc/vR7etamq6xZ6LZG61GZYYQwXczdSTgCgDH/4Qm0/5+Jvzo/4Qm0/5+JvzregukureOeE5jkXcpJxxXPal8QdA0rVBYXd0fOzhii7lT/eI4H40AL/AMIXa/8APxN+dJN4NtUt5T9omPyHv7V0kM0c8KSwsHRxuVlOQRSXJBtZh/sH+VAHDeGvCFpLpJxNN/rD3rZPgqz7TzfnU3hM7dKcnOBIavarrdlo0ccmoTrGs0gjjGeWY9sUAZP/AAhNn/z2m/Onf8ITaf8APxN+ddCJgY1fPysu4H2rm1+IOgNrR0wXLeeG27tvyZ9N3TNADx4KtAc/aJvzqvfeDrSOxuT9ok/1Z711W48Y79Oar6p/yC7jj/lmaAOO8M+ELSTSR/pEv326H3rWPgy0/wCfiarXhVgNFB/22HH1raLDn260Ac5/whdoR/r5fzpP+ELtP+e8n51p2WvWGoahc2VncLJPanbKowdp/wAmr5YgZJGKAOcHgy0/57TfnTh4NtR0nl/E1p6Zrun6vcXEOnziZrc7ZCvQHpjP4VpUAcFr/huHT/7OkjlkYi7XqfY13cP+oT/dFYHiwlU045B/0pe3sa6CP/VJ/uigB1FFFABRRRQAUUUUAFFFFABRRRQAUUUUAFeN/tO/8kz0/wD7C8f/AKJmr2SvG/2nf+SZ6f8A9heP/wBEzUAeyUUUUAFFFFABRRRQAh69a5Txlc/YrixuXheVI3BbZ9a6sjJFNeJJBiQBh6GgDll8e2W0f6NN09D/AIUy4+IVjBbySm1mIRSSMf8A1q6n7Hb/APPFPypk2nWk8LRyQIVYYIxQBieDfFtr4v0T+0bSCSBC2Ar9TWJ438S28F7D4ciulgnvR+8dv4Vzg/zrtLHTbXTLVbeyhWGNeiqKw9d8CaJ4gvVvNRtw06DAkxzSA4n4MDTdOvta0+xuEkKzEnHVjuPNdvqTD/hLrME4yB/I1y3w4+H0fhjxJqt61uIxK58ogfeGT/jXT6p/yOFipA6dfwNMCfxf4mt/DOgyXk7bXI2xqe5rzjwBBa2fxFluZtRW6vL+IyS4J44G0fka9S17w7p/iOx+y6pAsyA5G4dK4vSvhjZ6D40fVrEFYhEVQe+BigC58UUa4s9Ns8nyZrgeYM8EAisq/srXRPitpC6TEkCyxhHSMYDDk1ta74e1TxH4ekt7mQQ3sMvmWsi9Rg5H8qzvCfhTxDceIE1rxpNG9xboI4Ujzt4/i578mgD0degwMUr/AOqbPoaAMDrRJ/q2HsaAOc8KjIvtrcee/J+tcR8TdVt/EUl34cbUFtYYYvMuDyNy5xiu28KKfNvvmOBM3H41neKfhpouvi6uWt1FzKm0sB15oAvfD+a1k8E2C2UoliRdoYemTXM/FXw3FqEdtqd1cyMsN1D5UG7jO8c1t6D4cuvCnhix03Ro0yr/AL3dn7uTmrvjLRLnX9AitbVh5qzxO3/AWBNAG3YsTp9sCv3kGQO1Wz3+lVrONrazggfllUKTVn1oA53wzgPqJPaUfyNeafEbWNP8VXFxZy34itNPkjZo+Rufd/QivTPDIBfUQeQZQP0Nc54r+FGi6xZ3JtLcR3UzhmZR15yaAOp8NvFc+GLNoJA6tAArjp0rhPGekaDomkX2m2lsLrV9WYhQw3MzEYznHA4rq9M0i+0HS9J0vSljW3hXbNuz/d/xrhpfDPju18W32sR/Z7lnkxA0u792mBwMe9AHpPhSwm03w3Z2d0SZY0BPt7VrXQ/0WbjPyH+VVNKN42mwvqAAuMYcCrdxxazZ5Gw/yoAwvCreXokrufuuSfyryrxZq9n4p1i01GfUlitLHUEWGHJGe+4/jmvV/DEazaLKrfddyCPwrkvE3wc0W/t4f7OgER+0CSQAcFec0Ad/bNHcafGd25WiAyDxjFeV/ETTINPjsrTT9MWOxkuRLPfJjKHIOcjnkivQIrC+gkt9PtcJp4tzG7D7wO3ArjJ/Bviya4k0Se/SbRpZjIZGJ3gZzt6YxxQB6ZY3EFzZxy2z+ZGw+V/UU3VP+Qbcf9czSabYxaVp8FjAP3cKBE9hS6p/yDbj/rmaAM3wqP8AiSgjqHf+dU/HXiWPw14eLvKI57g+XGx7Hv8Azq74TP8AxJR/vt/OneIfDGl+JraODVoFmSM5XI6GgDzr4X29nYeLNVRL1bq4uQZJnB+83Fdd448SwaHpkdn5/lXV84hjY/w7uM1leGvhrD4Y8UahqdiAFlUrAp7dK2JvCMPifT4H8UW6PdRMcEDoM8UAcv8ACC2stL1DVbC0vhdSb/MlbOdzMST+teqjr7VwfgX4e2/hLWtSvYlI+0N8me3J/wAa7xQe/wCVAHP+Lf8AV6d/19L/ACNdBF/qU/3RXP8Ai0Zj0/8A6+l/ka6CL/Up/uigB1FFFABRRRQAUUUUAFFFFABRRRQAUUUUAFeN/tO/8kz0/wD7C8f/AKJmr2SvG/2nf+SZ6f8A9heP/wBEzUAeyUUUUAFFFFABRRRQAUUUUAFFFFACGmnnin0YoAjRNrZP4VzWqn/itLH6D+Rrqawdc8PHVrqK4iuGheLoVzQBtnkc9M0xiq/Mfyrmf+Ea1Pccaq+Cehz/AI0v/CL6ieupv+Z/xoA6fhgMU3YoOQ35mua/4RjUh/zE3/M/40f8IvqP/QTf9f8AGgDqQ47nmmu6+W3PauY/4RfUf+gm/wCZ/wAaD4X1DHOpvjvyf8aAJfCh/e3/AP13b+ddGQCDu6Vx1r4LurMymDU5AZTnqf8AGrK+GNTEYQ6o5A+v+NAHSMAAMH73elCIvKnpXNf8IvqP/QTf8z/jR/wi+ojpqb/mf8aAOnDDOAwPpS56/SuX/wCEW1EcjUnz+P8AjQPDWo451R84weT/AI0AWfC5/e6h/wBdh/Wt0cNzx1zXI2Xgq7sVlEGqyEytuPJ/xqwfDGonrqb/AJn/ABoA6XjPUcnGaXcFBJOR2rmf+EX1H/oJv+v+NH/CL6j/ANBN/wBf8aAOo3DGW4HamXLA2k2D/A38q5o+F9RPXU3/ADP+NI/ha/ZCram4DDB5P+NAFzwmf+JO3/XQ1uMwJCscZ/WuQtvBl5Y2vkwao+3OScn/ABqx/wAIzqLgZ1N8Doef8aAOl+RgWU+xFKgRR1H51zP/AAi+oj/mJv8Amf8AGj/hF9R/6Cb/AK/40AdRkFselVdUP/Esn/65msIeGdSVsjU3/M/41G/hS/dZFk1Rysgx1P8AjQBoeEmA0UZ/56N/OtwutcfaeDLyyh8qHVHxknqf8an/AOEX1H/oJv8Ar/jQB02FYnnjr9DQT821W61zP/CL6iOmpv8Amf8AGj/hF9R/6Cb/AJn/ABoA6ZVCndvyKeGBAI5zXLf8IvqI/wCYm/5n/GkPhjUuMao4H4/40AWvFp/dad/19L/I10EX+pT/AHRXKDwncyywSX2ovIsEokC884/Guri/1a47DFADqKKKACiiigAooooAKKKKACiiigAooooAK8b/AGnf+SZ6f/2F4/8A0TNXsleN/tO/8kz0/wD7C8f/AKJmoA9kooooAKKKKACiiigAooooAKKKKACiiigApp+/+FFFAC45paKKACiiigAooooAbgbvwoTv9aKKAHUUUUAFM/haiigBUACjAp1FFABRRRQAUjAEc0UUAIQOR7Uqj5RRRQAtFFFABTAMpzRRQA4ADoKWiigAooooAKQ0UUANUAls+tOX7tFFAC0UUUAFFFFABRRRQAUUUUAFFFFABRRRQAV43+07/wAkz0//ALC8f/omaiigD//Z)"
      ]
    },
    {
      "cell_type": "code",
      "metadata": {
        "colab": {
          "base_uri": "https://localhost:8080/"
        },
        "id": "Cb58y2wJ7_H0",
        "outputId": "06e17317-b3f4-4ab9-adf9-be1a1e2c9b7d"
      },
      "source": [
        "arr3d = np.array([[[1,2,3],[4,5,6]], [[7,8,9], [10,11,12]]]) #\n",
        "arr3d"
      ],
      "execution_count": null,
      "outputs": [
        {
          "output_type": "execute_result",
          "data": {
            "text/plain": [
              "array([[[ 1,  2,  3],\n",
              "        [ 4,  5,  6]],\n",
              "\n",
              "       [[ 7,  8,  9],\n",
              "        [10, 11, 12]]])"
            ]
          },
          "metadata": {
            "tags": []
          },
          "execution_count": 134
        }
      ]
    },
    {
      "cell_type": "code",
      "metadata": {
        "colab": {
          "base_uri": "https://localhost:8080/"
        },
        "id": "dlkiEOkJ9NXq",
        "outputId": "7af76c85-aefe-4e8e-c690-368f458d14dd"
      },
      "source": [
        "arr3d[0]  # é um array 2x3:"
      ],
      "execution_count": null,
      "outputs": [
        {
          "output_type": "execute_result",
          "data": {
            "text/plain": [
              "array([[1, 2, 3],\n",
              "       [4, 5, 6]])"
            ]
          },
          "metadata": {
            "tags": []
          },
          "execution_count": 135
        }
      ]
    },
    {
      "cell_type": "markdown",
      "metadata": {
        "id": "Lm-dGtft9jze"
      },
      "source": [
        "* tanto valores escalares quanto arrays podems er atribuidos a arr3d[0]:\n"
      ]
    },
    {
      "cell_type": "code",
      "metadata": {
        "colab": {
          "base_uri": "https://localhost:8080/"
        },
        "id": "kc4x2sXg-jWW",
        "outputId": "7301fe1e-5bfc-44e9-965c-570c5033c7ae"
      },
      "source": [
        "old_values = arr3d[0].copy()\n",
        "old_values"
      ],
      "execution_count": null,
      "outputs": [
        {
          "output_type": "execute_result",
          "data": {
            "text/plain": [
              "array([[1, 2, 3],\n",
              "       [4, 5, 6]])"
            ]
          },
          "metadata": {
            "tags": []
          },
          "execution_count": 137
        }
      ]
    },
    {
      "cell_type": "code",
      "metadata": {
        "colab": {
          "base_uri": "https://localhost:8080/"
        },
        "id": "w0KBUrbX--yJ",
        "outputId": "6266a4e1-0b79-45a8-85bf-aa765a10731e"
      },
      "source": [
        "arr3d[0]=42\n",
        "arr3d"
      ],
      "execution_count": null,
      "outputs": [
        {
          "output_type": "execute_result",
          "data": {
            "text/plain": [
              "array([[[42, 42, 42],\n",
              "        [42, 42, 42]],\n",
              "\n",
              "       [[ 7,  8,  9],\n",
              "        [10, 11, 12]]])"
            ]
          },
          "metadata": {
            "tags": []
          },
          "execution_count": 138
        }
      ]
    },
    {
      "cell_type": "code",
      "metadata": {
        "colab": {
          "base_uri": "https://localhost:8080/"
        },
        "id": "_xDJDi9l_I5m",
        "outputId": "4aae82d3-b83e-46aa-c20c-82ea1675b7ab"
      },
      "source": [
        "arr3d[0] = old_values\n",
        "arr3d"
      ],
      "execution_count": null,
      "outputs": [
        {
          "output_type": "execute_result",
          "data": {
            "text/plain": [
              "array([[[ 1,  2,  3],\n",
              "        [ 4,  5,  6]],\n",
              "\n",
              "       [[ 7,  8,  9],\n",
              "        [10, 11, 12]]])"
            ]
          },
          "metadata": {
            "tags": []
          },
          "execution_count": 139
        }
      ]
    },
    {
      "cell_type": "markdown",
      "metadata": {
        "id": "X2MezjiO_XPO"
      },
      "source": [
        "* de modo semelhante, arr3d[1,0]  contem todos os valores cujos indices começam com (1, 0)"
      ]
    },
    {
      "cell_type": "code",
      "metadata": {
        "colab": {
          "base_uri": "https://localhost:8080/"
        },
        "id": "tKMPdles_v6N",
        "outputId": "f1f8364f-5e9d-476a-b1b0-d37c1a385e62"
      },
      "source": [
        "arr3d[1,0]"
      ],
      "execution_count": null,
      "outputs": [
        {
          "output_type": "execute_result",
          "data": {
            "text/plain": [
              "array([7, 8, 9])"
            ]
          },
          "metadata": {
            "tags": []
          },
          "execution_count": 140
        }
      ]
    },
    {
      "cell_type": "code",
      "metadata": {
        "colab": {
          "base_uri": "https://localhost:8080/"
        },
        "id": "oVYfCmWZApd_",
        "outputId": "11ca9b09-a3bb-4423-ca55-de0bd8edba8b"
      },
      "source": [
        "x = arr3d[1]\n",
        "x"
      ],
      "execution_count": null,
      "outputs": [
        {
          "output_type": "execute_result",
          "data": {
            "text/plain": [
              "array([[ 7,  8,  9],\n",
              "       [10, 11, 12]])"
            ]
          },
          "metadata": {
            "tags": []
          },
          "execution_count": 141
        }
      ]
    },
    {
      "cell_type": "code",
      "metadata": {
        "colab": {
          "base_uri": "https://localhost:8080/"
        },
        "id": "lK6QB1PQAySq",
        "outputId": "3c8eeac5-b7d2-4ba3-b88c-0b24c9ca9a2e"
      },
      "source": [
        "x[0]"
      ],
      "execution_count": null,
      "outputs": [
        {
          "output_type": "execute_result",
          "data": {
            "text/plain": [
              "array([7, 8, 9])"
            ]
          },
          "metadata": {
            "tags": []
          },
          "execution_count": 142
        }
      ]
    },
    {
      "cell_type": "markdown",
      "metadata": {
        "id": "yzYhbayGBVGO"
      },
      "source": [
        "###1.1.5 indexando com fatias\n",
        "assim como os objetos unidimensionais, por exemplo, listas python, os ndarrays podem ser fatiados com a sintaxe conhecida:"
      ]
    },
    {
      "cell_type": "code",
      "metadata": {
        "colab": {
          "base_uri": "https://localhost:8080/"
        },
        "id": "ODfwV6bQBzvb",
        "outputId": "efe00023-bc9e-499d-9a1a-93a7495be656"
      },
      "source": [
        "arr"
      ],
      "execution_count": null,
      "outputs": [
        {
          "output_type": "execute_result",
          "data": {
            "text/plain": [
              "array([ 0,  1,  2,  3,  4, 64, 64, 64,  8,  9])"
            ]
          },
          "metadata": {
            "tags": []
          },
          "execution_count": 143
        }
      ]
    },
    {
      "cell_type": "code",
      "metadata": {
        "colab": {
          "base_uri": "https://localhost:8080/"
        },
        "id": "6Faibh9JBpFv",
        "outputId": "09bf3c25-68c0-41d6-d3ec-4dbe4fdd676b"
      },
      "source": [
        "arr[1:6]"
      ],
      "execution_count": null,
      "outputs": [
        {
          "output_type": "execute_result",
          "data": {
            "text/plain": [
              "array([ 1,  2,  3,  4, 64])"
            ]
          },
          "metadata": {
            "tags": []
          },
          "execution_count": 144
        }
      ]
    },
    {
      "cell_type": "markdown",
      "metadata": {
        "id": "_FLNJ0zqB5Oy"
      },
      "source": [
        "* o bidimensional é um pouco diferente:"
      ]
    },
    {
      "cell_type": "code",
      "metadata": {
        "colab": {
          "base_uri": "https://localhost:8080/"
        },
        "id": "-9st5y-1CA0S",
        "outputId": "eebe189f-3332-4568-fa1b-56bebfd554a6"
      },
      "source": [
        "arr2d"
      ],
      "execution_count": null,
      "outputs": [
        {
          "output_type": "execute_result",
          "data": {
            "text/plain": [
              "array([[1, 2, 3],\n",
              "       [4, 5, 6],\n",
              "       [7, 8, 9]])"
            ]
          },
          "metadata": {
            "tags": []
          },
          "execution_count": 145
        }
      ]
    },
    {
      "cell_type": "code",
      "metadata": {
        "colab": {
          "base_uri": "https://localhost:8080/"
        },
        "id": "HkQrZSb1CW7d",
        "outputId": "1d3d461a-b4bf-4c4a-973f-671f514ac2e0"
      },
      "source": [
        "arr2d[:2]  #ler a expressao arr2d[:2] como \"selecione as duas primeiras linhas de arr2d\""
      ],
      "execution_count": null,
      "outputs": [
        {
          "output_type": "execute_result",
          "data": {
            "text/plain": [
              "array([[1, 2, 3],\n",
              "       [4, 5, 6]])"
            ]
          },
          "metadata": {
            "tags": []
          },
          "execution_count": 146
        }
      ]
    },
    {
      "cell_type": "code",
      "metadata": {
        "colab": {
          "base_uri": "https://localhost:8080/"
        },
        "id": "ZrfTAGnWCpyq",
        "outputId": "78c69c37-7c60-405a-ab79-9d9ba9a8cb4a"
      },
      "source": [
        "arr2d[:2,1:]"
      ],
      "execution_count": null,
      "outputs": [
        {
          "output_type": "execute_result",
          "data": {
            "text/plain": [
              "array([[2, 3],\n",
              "       [5, 6]])"
            ]
          },
          "metadata": {
            "tags": []
          },
          "execution_count": 147
        }
      ]
    },
    {
      "cell_type": "markdown",
      "metadata": {
        "id": "Fipujr4iEjsu"
      },
      "source": [
        "* ao combinar índices inteiros com fatias, teremos fatias de dimensões menores"
      ]
    },
    {
      "cell_type": "code",
      "metadata": {
        "colab": {
          "base_uri": "https://localhost:8080/"
        },
        "id": "Zb0Xab3AEveb",
        "outputId": "bac08d99-7163-4fc3-f746-dc05cc13f875"
      },
      "source": [
        "arr2d[1,:2]"
      ],
      "execution_count": null,
      "outputs": [
        {
          "output_type": "execute_result",
          "data": {
            "text/plain": [
              "array([4, 5])"
            ]
          },
          "metadata": {
            "tags": []
          },
          "execution_count": 148
        }
      ]
    },
    {
      "cell_type": "code",
      "metadata": {
        "colab": {
          "base_uri": "https://localhost:8080/"
        },
        "id": "mV7Z9l0tE3Ey",
        "outputId": "ceec8674-46a7-4e44-cb56-32c9c6997b32"
      },
      "source": [
        "arr2d[:2,2]"
      ],
      "execution_count": null,
      "outputs": [
        {
          "output_type": "execute_result",
          "data": {
            "text/plain": [
              "array([3, 6])"
            ]
          },
          "metadata": {
            "tags": []
          },
          "execution_count": 149
        }
      ]
    },
    {
      "cell_type": "markdown",
      "metadata": {
        "id": "9e3lKYcVFZzu"
      },
      "source": [
        "* claro que fazer uma atribuição a uma expressa de fatia faz a atribuiçao para toda a seleção:"
      ]
    },
    {
      "cell_type": "code",
      "metadata": {
        "colab": {
          "base_uri": "https://localhost:8080/"
        },
        "id": "k66mrMkWFjFy",
        "outputId": "dfb9fab5-8f99-4603-bdea-a53d8bd2d2fa"
      },
      "source": [
        "arr2d[:2,1:] = 0\n",
        "arr2d"
      ],
      "execution_count": null,
      "outputs": [
        {
          "output_type": "execute_result",
          "data": {
            "text/plain": [
              "array([[1, 0, 0],\n",
              "       [4, 0, 0],\n",
              "       [7, 8, 9]])"
            ]
          },
          "metadata": {
            "tags": []
          },
          "execution_count": 151
        }
      ]
    },
    {
      "cell_type": "markdown",
      "metadata": {
        "id": "_YV_Qul1I0zE"
      },
      "source": [
        "### 1.1.6 Indexação booleana"
      ]
    },
    {
      "cell_type": "code",
      "metadata": {
        "id": "A5gGrJ_yJIjO"
      },
      "source": [
        ""
      ],
      "execution_count": null,
      "outputs": []
    }
  ]
}